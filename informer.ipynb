{
 "cells": [
  {
   "metadata": {},
   "cell_type": "markdown",
   "source": "# Informer Paddle Demo",
   "id": "a06b7d14a2e7c50"
  },
  {
   "metadata": {},
   "cell_type": "markdown",
   "source": [
    "### 安装依赖包\n",
    "- `poetry install`\n",
    "- 或者用pip安装相应包"
   ],
   "id": "a3a5fa8a73fd4f50"
  },
  {
   "metadata": {
    "ExecuteTime": {
     "end_time": "2024-09-11T18:20:11.444562Z",
     "start_time": "2024-09-11T18:20:10.554686Z"
    }
   },
   "cell_type": "code",
   "source": [
    "import paddle\n",
    "import pandas as pd\n",
    "import numpy as np\n",
    "from utils.tools import dotdict\n",
    "from exp.exp_informer import Exp_Informer"
   ],
   "id": "28011b8a0b657ade",
   "outputs": [],
   "execution_count": 1
  },
  {
   "metadata": {},
   "cell_type": "markdown",
   "source": "### 打印基本信息",
   "id": "75273508458d24ac"
  },
  {
   "metadata": {
    "ExecuteTime": {
     "end_time": "2024-09-11T18:20:11.491612Z",
     "start_time": "2024-09-11T18:20:11.445582Z"
    }
   },
   "cell_type": "code",
   "source": [
    "from paddle import utils\n",
    "\n",
    "utils.run_check()"
   ],
   "id": "792e5dbd7332c421",
   "outputs": [
    {
     "name": "stdout",
     "output_type": "stream",
     "text": [
      "Running verify PaddlePaddle program ... \n",
      "PaddlePaddle works well on 1 CPU.\n",
      "PaddlePaddle is installed successfully! Let's start deep learning with PaddlePaddle now.\n"
     ]
    }
   ],
   "execution_count": 2
  },
  {
   "metadata": {
    "ExecuteTime": {
     "end_time": "2024-09-11T18:20:11.506357Z",
     "start_time": "2024-09-11T18:20:11.492226Z"
    }
   },
   "cell_type": "code",
   "source": [
    "print(f'numpy version: {np.__version__}')\n",
    "print(f'paddle version: {paddle.__version__}')\n",
    "print(f'pandas version: {pd.__version__}')\n",
    "if paddle.is_compiled_with_cuda():\n",
    "    gpu_count = paddle.device.cuda.device_count()\n",
    "    print(f'🖥️Use GPU: cuda:{paddle.CUDAPlace(0)},🔢可用GPU数量:{gpu_count}')\n",
    "else:\n",
    "    print(f'🔳GPU不可用,将使用{paddle.CPUPlace()}')"
   ],
   "id": "f33512a253a60483",
   "outputs": [
    {
     "name": "stdout",
     "output_type": "stream",
     "text": [
      "numpy version: 1.26.4\n",
      "paddle version: 3.0.0-beta1\n",
      "pandas version: 2.2.2\n",
      "🔳GPU不可用,将使用Place(cpu)\n"
     ]
    }
   ],
   "execution_count": 3
  },
  {
   "metadata": {},
   "cell_type": "markdown",
   "source": [
    "# 训练\n",
    "### 参数"
   ],
   "id": "74edc86eba133c37"
  },
  {
   "metadata": {
    "ExecuteTime": {
     "end_time": "2024-09-11T20:50:15.652914Z",
     "start_time": "2024-09-11T20:50:14.939419Z"
    }
   },
   "cell_type": "code",
   "source": [
    "from informer_paddle.wth_args import get_wth_args_nb\n",
    "\n",
    "args = get_wth_args_nb()"
   ],
   "id": "cc8f106610de2628",
   "outputs": [
    {
     "name": "stdout",
     "output_type": "stream",
     "text": [
      "🔣 args:{'model': 'informer', 'data': 'WTH_small', 'root_path': './data/', 'data_path': 'WTH_small.csv', 'features': 'M', 'target': 'WetBulbCelsius', 'freq': 'h', 'checkpoints': './checkpoints/', 'seq_len': 96, 'label_len': 48, 'pred_len': 24, 'enc_in': 12, 'dec_in': 12, 'c_out': 12, 'd_model': 512, 'n_heads': 8, 'e_layers': 2, 'd_layers': 1, 's_layers': '3,2,1', 'd_ff': 2048, 'factor': 5, 'padding': 0, 'distil': True, 'dropout': 0.05, 'attn': 'prob', 'embed': 'timeF', 'activation': 'gelu', 'output_attention': True, 'mix': True, 'num_workers': 0, 'itr': 1, 'train_epochs': 6, 'batch_size': 32, 'patience': 4, 'learning_rate': 0.0001, 'des': 'test', 'loss': 'mse', 'lradj': 'type1', 'use_amp': False, 'inverse': False, 'use_gpu': False, 'gpu': 0, 'use_multi_gpu': False, 'devices': '0,1,2,3', 'detail_freq': 'h'}\n"
     ]
    }
   ],
   "execution_count": 1
  },
  {
   "metadata": {},
   "cell_type": "markdown",
   "source": "### 训练",
   "id": "89ec1a2bb1000948"
  },
  {
   "metadata": {
    "jupyter": {
     "is_executing": true
    },
    "ExecuteTime": {
     "start_time": "2024-09-11T18:20:11.554183Z"
    }
   },
   "cell_type": "code",
   "source": [
    "from informer_paddle.args import get_setting\n",
    "\n",
    "Exp = Exp_Informer\n",
    "setting = \"\"\n",
    "for ii in range(args.itr):\n",
    "    # setting record of experiments\n",
    "    setting = get_setting(args, ii)\n",
    "\n",
    "exp = Exp(args)  # set experiments\n",
    "print('>>>>>>>start training : {}>>>>>>>>>>>>>>>>>>>>>>>>>>'.format(setting))\n",
    "exp.train(setting)\n",
    "\n",
    "print('>>>>>>>testing : {}<<<<<<<<<<<<<<<<<<<<<<<<<<<<<<<<<'.format(setting))\n",
    "exp.test(setting)\n",
    "\n",
    "if args.do_predict:\n",
    "    print('>>>>>>>predicting : {}<<<<<<<<<<<<<<<<<<<<<<<<<<<<<<<<<'.format(setting))\n",
    "exp.predict(setting, True)\n",
    "\n",
    "paddle.device.cuda.empty_cache()\n",
    "print('🚩执行结束🚩')"
   ],
   "id": "e8da8bc57d293785",
   "outputs": [
    {
     "name": "stdout",
     "output_type": "stream",
     "text": [
      "🏿Use CPU:Place(cpu)\n",
      ">>>>>>>start training : informer_WTH_small_ftM_sl96_ll48_pl24_dm512_nh8_el2_dl1_df2048_atprob_fc5_ebtimeF_dtTrue_mxTrue_test_0>>>>>>>>>>>>>>>>>>>>>>>>>>\n",
      "📑_get_data处理结束,flag:【train】,data_set.length:【10605】\n",
      "📑_get_data处理结束,flag:【val】,data_set.length:【1509】\n",
      "📑_get_data处理结束,flag:【test】,data_set.length:【3041】\n"
     ]
    }
   ],
   "execution_count": null
  }
 ],
 "metadata": {
  "kernelspec": {
   "display_name": "Python 3",
   "language": "python",
   "name": "python3"
  },
  "language_info": {
   "codemirror_mode": {
    "name": "ipython",
    "version": 2
   },
   "file_extension": ".py",
   "mimetype": "text/x-python",
   "name": "python",
   "nbconvert_exporter": "python",
   "pygments_lexer": "ipython2",
   "version": "2.7.6"
  }
 },
 "nbformat": 4,
 "nbformat_minor": 5
}
