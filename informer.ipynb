{
 "cells": [
  {
   "metadata": {},
   "cell_type": "markdown",
   "source": "# Informer Paddle Demo",
   "id": "a06b7d14a2e7c50"
  },
  {
   "metadata": {},
   "cell_type": "markdown",
   "source": [
    "### 安装依赖包\n",
    "- `poetry install` \n",
    "- 或者用pip安装相应包"
   ],
   "id": "a3a5fa8a73fd4f50"
  },
  {
   "metadata": {
    "ExecuteTime": {
     "end_time": "2024-09-10T16:22:43.428878Z",
     "start_time": "2024-09-10T16:22:43.419679Z"
    }
   },
   "cell_type": "code",
   "source": [
    "import paddle\n",
    "import pandas as pd\n",
    "import numpy as np\n",
    "from utils.tools import dotdict\n",
    "from exp.exp_informer import Exp_Informer"
   ],
   "id": "28011b8a0b657ade",
   "outputs": [],
   "execution_count": 41
  },
  {
   "metadata": {},
   "cell_type": "markdown",
   "source": "### 打印基本信息",
   "id": "75273508458d24ac"
  },
  {
   "metadata": {
    "ExecuteTime": {
     "end_time": "2024-09-10T16:22:43.444130Z",
     "start_time": "2024-09-10T16:22:43.429879Z"
    }
   },
   "cell_type": "code",
   "source": [
    "print(f'numpy version: {np.__version__}')\n",
    "print(f'paddle version: {paddle.__version__}')\n",
    "print(f'pandas version: {pd.__version__}')\n",
    "print(f'device: {paddle.CUDAPlace(0)}')\n",
    "if paddle.is_compiled_with_cuda():\n",
    "    gpu_count = paddle.device.cuda.device_count()\n",
    "    print(f\"可用的GPU数量: {gpu_count}\")\n",
    "else:\n",
    "    print(\"GPU不可用,将使用CPU\")"
   ],
   "id": "f33512a253a60483",
   "outputs": [
    {
     "name": "stdout",
     "output_type": "stream",
     "text": [
      "numpy version: 1.26.4\n",
      "paddle version: 3.0.0-beta1\n",
      "pandas version: 2.2.2\n",
      "device: Place(gpu:0)\n",
      "可用的GPU数量: 1\n"
     ]
    }
   ],
   "execution_count": 42
  },
  {
   "metadata": {},
   "cell_type": "markdown",
   "source": [
    "# 训练\n",
    "### 参数"
   ],
   "id": "74edc86eba133c37"
  },
  {
   "metadata": {
    "ExecuteTime": {
     "end_time": "2024-09-10T16:22:43.458919Z",
     "start_time": "2024-09-10T16:22:43.445643Z"
    }
   },
   "cell_type": "code",
   "source": [
    "args = dotdict()\n",
    "args.model = 'informer'\n",
    "args.data = 'WTH_small'\n",
    "args.root_path = './data/ETT/'\n",
    "args.data_path = 'WTH_small.csv'\n",
    "args.features = 'M'\n",
    "args.target = 'OT'\n",
    "args.freq = 'h'\n",
    "args.checkpoints = './checkpoints/'\n",
    "args.seq_len = 96\n",
    "args.label_len = 48\n",
    "args.pred_len = 24\n",
    "# ─── ⋆⋅☆⋅⋆ ──\n",
    "args.enc_in = 12\n",
    "args.dec_in = 12\n",
    "args.c_out = 12\n",
    "args.d_model = 512\n",
    "args.n_heads = 8\n",
    "args.e_layers = 2\n",
    "args.d_layers = 1\n",
    "args.s_layers = '3,2,1'\n",
    "args.d_ff = 2048\n",
    "args.factor = 5\n",
    "args.padding = 0\n",
    "args.distil = True\n",
    "args.dropout = 0.05\n",
    "args.attn = 'prob'\n",
    "args.embed = 'timeF'\n",
    "args.activation = 'gelu'\n",
    "args.output_attention = True\n",
    "args.mix = True\n",
    "args.num_workers = 0\n",
    "args.itr = 2\n",
    "args.train_epochs = 6\n",
    "args.batch_size = 32\n",
    "args.patience = 4  # early stopping patience\n",
    "args.learning_rate = 0.0001\n",
    "args.des = 'test'\n",
    "args.loss = 'mse'\n",
    "args.lradj = 'type1'\n",
    "args.use_amp = False\n",
    "args.inverse = False\n",
    "args.use_gpu = True if paddle.device.is_compiled_with_cuda() else False\n",
    "args.gpu = 0\n",
    "args.use_multi_gpu = False\n",
    "args.devices = '0,1,2,3'"
   ],
   "id": "62541d708425eb35",
   "outputs": [],
   "execution_count": 43
  },
  {
   "metadata": {
    "ExecuteTime": {
     "end_time": "2024-09-10T16:22:43.473798Z",
     "start_time": "2024-09-10T16:22:43.461001Z"
    }
   },
   "cell_type": "code",
   "source": [
    "if args.use_gpu and args.use_multi_gpu:  # 都gpu训练\n",
    "    args.devices = args.devices.replace(' ', '')\n",
    "    device_ids = args.devices.split(',')\n",
    "    args.device_ids = [int(id_) for id_ in device_ids]\n",
    "    args.gpu = args.device_ids[0]\n",
    "\n",
    "data_parser = {\n",
    "    'WTH_small': {\n",
    "        'data': 'WTH_small.csv',\n",
    "        'T': 'WetBulbCelsius',\n",
    "        'M': [12, 12, 12],\n",
    "        'S': [1, 1, 1],\n",
    "        'MS': [12, 12, 1],\n",
    "        'itr': 1,\n",
    "        'train_epochs': 3,\n",
    "        'do_predict': True},\n",
    "}\n",
    "\n",
    "if args.data in data_parser.keys():\n",
    "    data_info = data_parser[args.data]\n",
    "    args.data_path = data_info['data']\n",
    "    args.target = data_info['T']\n",
    "    args.enc_in, args.dec_in, args.c_out = data_info[args.features]\n",
    "\n",
    "args.detail_freq = args.freq\n",
    "args.freq = args.freq[-1:]\n",
    "\n",
    "print('Args in experiment:')\n",
    "print(args)"
   ],
   "id": "635edc23afa216bd",
   "outputs": [
    {
     "name": "stdout",
     "output_type": "stream",
     "text": [
      "Args in experiment:\n",
      "{'model': 'informer', 'data': 'WTH_small', 'root_path': './data/ETT/', 'data_path': 'WTH_small.csv', 'features': 'M', 'target': 'WetBulbCelsius', 'freq': 'h', 'checkpoints': './checkpoints/', 'seq_len': 96, 'label_len': 48, 'pred_len': 24, 'enc_in': 12, 'dec_in': 12, 'c_out': 12, 'd_model': 512, 'n_heads': 8, 'e_layers': 2, 'd_layers': 1, 's_layers': '3,2,1', 'd_ff': 2048, 'factor': 5, 'padding': 0, 'distil': True, 'dropout': 0.05, 'attn': 'prob', 'embed': 'timeF', 'activation': 'gelu', 'output_attention': True, 'mix': True, 'num_workers': 0, 'itr': 2, 'train_epochs': 6, 'batch_size': 32, 'patience': 4, 'learning_rate': 0.0001, 'des': 'test', 'loss': 'mse', 'lradj': 'type1', 'use_amp': False, 'inverse': False, 'use_gpu': True, 'gpu': 0, 'use_multi_gpu': False, 'devices': '0,1,2,3', 'detail_freq': 'h'}\n"
     ]
    }
   ],
   "execution_count": 44
  },
  {
   "metadata": {},
   "cell_type": "markdown",
   "source": "### 训练",
   "id": "89ec1a2bb1000948"
  },
  {
   "metadata": {
    "ExecuteTime": {
     "end_time": "2024-09-10T16:23:26.981621Z",
     "start_time": "2024-09-10T16:23:26.971612Z"
    }
   },
   "cell_type": "code",
   "source": [
    "import sys\n",
    "\n",
    "if not 'informer-paddle' in sys.path:\n",
    "    sys.path += ['informer-paddle']\n",
    "print(sys.path)"
   ],
   "id": "63f0ed19c0f79a5e",
   "outputs": [
    {
     "name": "stdout",
     "output_type": "stream",
     "text": [
      "['C:\\\\github\\\\txnj\\\\informer-paddle\\\\.venv\\\\lib\\\\site-packages\\\\paddle\\\\base\\\\..\\\\libs', 'C:\\\\Program Files\\\\JetBrains\\\\PyCharm 2024.1.4\\\\plugins\\\\python\\\\helpers-pro\\\\jupyter_debug', 'C:\\\\Program Files\\\\JetBrains\\\\PyCharm 2024.1.4\\\\plugins\\\\python\\\\helpers\\\\pydev', 'C:\\\\github\\\\txnj\\\\informer-paddle', 'C:\\\\Users\\\\hjs\\\\AppData\\\\Local\\\\Programs\\\\Python\\\\Python310\\\\python310.zip', 'C:\\\\Users\\\\hjs\\\\AppData\\\\Local\\\\Programs\\\\Python\\\\Python310\\\\DLLs', 'C:\\\\Users\\\\hjs\\\\AppData\\\\Local\\\\Programs\\\\Python\\\\Python310\\\\lib', 'C:\\\\Users\\\\hjs\\\\AppData\\\\Local\\\\Programs\\\\Python\\\\Python310', 'C:\\\\github\\\\txnj\\\\informer-paddle\\\\.venv', '', 'C:\\\\github\\\\txnj\\\\informer-paddle\\\\.venv\\\\lib\\\\site-packages', 'C:\\\\github\\\\txnj\\\\informer-paddle\\\\.venv\\\\lib\\\\site-packages\\\\win32', 'C:\\\\github\\\\txnj\\\\informer-paddle\\\\.venv\\\\lib\\\\site-packages\\\\win32\\\\lib', 'C:\\\\github\\\\txnj\\\\informer-paddle\\\\.venv\\\\lib\\\\site-packages\\\\Pythonwin', 'C:\\\\github\\\\txnj\\\\informer-paddle\\\\.venv\\\\lib\\\\site-packages\\\\setuptools\\\\_vendor', 'informer-paddle']\n"
     ]
    }
   ],
   "execution_count": 48
  },
  {
   "metadata": {
    "ExecuteTime": {
     "end_time": "2024-09-10T16:22:43.581991Z",
     "start_time": "2024-09-10T16:22:43.475308Z"
    }
   },
   "cell_type": "code",
   "source": [
    "Exp = Exp_Informer\n",
    "for ii in range(args.itr):\n",
    "    # setting record of experiments\n",
    "    setting = '{}_{}_ft{}_sl{}_ll{}_pl{}_dm{}_nh{}_el{}_dl{}_df{}_at{}_fc{}_eb{}_dt{}_mx{}_{}_{}'.format(\n",
    "        args.model,\n",
    "        args.data,\n",
    "        args.features,\n",
    "        args.seq_len,\n",
    "        args.label_len,\n",
    "        args.pred_len,\n",
    "        args.d_model,\n",
    "        args.n_heads,\n",
    "        args.e_layers,\n",
    "        args.d_layers,\n",
    "        args.d_ff,\n",
    "        args.attn,\n",
    "        args.factor,\n",
    "        args.embed,\n",
    "        args.distil,\n",
    "        args.mix,\n",
    "        args.des, ii)\n",
    "\n",
    "    exp = Exp(args)  # set experiments\n",
    "    print('>>>>>>>start training : {}>>>>>>>>>>>>>>>>>>>>>>>>>>'.format(setting))\n",
    "    exp.train(setting)\n",
    "\n",
    "    print('>>>>>>>testing : {}<<<<<<<<<<<<<<<<<<<<<<<<<<<<<<<<<'.format(setting))\n",
    "    exp.test(setting)\n",
    "\n",
    "    if args.do_predict:\n",
    "        print('>>>>>>>predicting : {}<<<<<<<<<<<<<<<<<<<<<<<<<<<<<<<<<'.format(setting))\n",
    "        exp.predict(setting, True)\n",
    "\n",
    "    paddle.device.cuda.empty_cache()"
   ],
   "id": "e8da8bc57d293785",
   "outputs": [
    {
     "name": "stdout",
     "output_type": "stream",
     "text": [
      "🖥️Use GPU: cuda:0\n"
     ]
    },
    {
     "ename": "RuntimeError",
     "evalue": "(PreconditionNotMet) The third-party dynamic library (cudnn64_8.dll) that Paddle depends on is not configured correctly. (error code is 126)\n  Suggestions:\n  1. Check if the third-party dynamic library (e.g. CUDA, CUDNN) is installed correctly and its version is matched with paddlepaddle you installed.\n  2. Configure third-party dynamic library environment variables as follows:\n  - Linux: set LD_LIBRARY_PATH by `export LD_LIBRARY_PATH=...`\n  - Windows: set PATH by `set PATH=XXX;%PATH%`\n  - Mac: set  DYLD_LIBRARY_PATH by `export DYLD_LIBRARY_PATH=...` [Note: After Mac OS 10.11, using the DYLD_LIBRARY_PATH is impossible unless System Integrity Protection (SIP) is disabled.] (at ..\\paddle\\phi\\backends\\dynload\\dynamic_loader.cc:340)\n",
     "output_type": "error",
     "traceback": [
      "\u001B[1;31m---------------------------------------------------------------------------\u001B[0m",
      "\u001B[1;31mRuntimeError\u001B[0m                              Traceback (most recent call last)",
      "Cell \u001B[1;32mIn[45], line 27\u001B[0m\n\u001B[0;32m      6\u001B[0m \u001B[38;5;28;01mfor\u001B[39;00m ii \u001B[38;5;129;01min\u001B[39;00m \u001B[38;5;28mrange\u001B[39m(args\u001B[38;5;241m.\u001B[39mitr):\n\u001B[0;32m      7\u001B[0m     \u001B[38;5;66;03m# setting record of experiments\u001B[39;00m\n\u001B[0;32m      8\u001B[0m     setting \u001B[38;5;241m=\u001B[39m \u001B[38;5;124m'\u001B[39m\u001B[38;5;132;01m{}\u001B[39;00m\u001B[38;5;124m_\u001B[39m\u001B[38;5;132;01m{}\u001B[39;00m\u001B[38;5;124m_ft\u001B[39m\u001B[38;5;132;01m{}\u001B[39;00m\u001B[38;5;124m_sl\u001B[39m\u001B[38;5;132;01m{}\u001B[39;00m\u001B[38;5;124m_ll\u001B[39m\u001B[38;5;132;01m{}\u001B[39;00m\u001B[38;5;124m_pl\u001B[39m\u001B[38;5;132;01m{}\u001B[39;00m\u001B[38;5;124m_dm\u001B[39m\u001B[38;5;132;01m{}\u001B[39;00m\u001B[38;5;124m_nh\u001B[39m\u001B[38;5;132;01m{}\u001B[39;00m\u001B[38;5;124m_el\u001B[39m\u001B[38;5;132;01m{}\u001B[39;00m\u001B[38;5;124m_dl\u001B[39m\u001B[38;5;132;01m{}\u001B[39;00m\u001B[38;5;124m_df\u001B[39m\u001B[38;5;132;01m{}\u001B[39;00m\u001B[38;5;124m_at\u001B[39m\u001B[38;5;132;01m{}\u001B[39;00m\u001B[38;5;124m_fc\u001B[39m\u001B[38;5;132;01m{}\u001B[39;00m\u001B[38;5;124m_eb\u001B[39m\u001B[38;5;132;01m{}\u001B[39;00m\u001B[38;5;124m_dt\u001B[39m\u001B[38;5;132;01m{}\u001B[39;00m\u001B[38;5;124m_mx\u001B[39m\u001B[38;5;132;01m{}\u001B[39;00m\u001B[38;5;124m_\u001B[39m\u001B[38;5;132;01m{}\u001B[39;00m\u001B[38;5;124m_\u001B[39m\u001B[38;5;132;01m{}\u001B[39;00m\u001B[38;5;124m'\u001B[39m\u001B[38;5;241m.\u001B[39mformat(\n\u001B[0;32m      9\u001B[0m         args\u001B[38;5;241m.\u001B[39mmodel,\n\u001B[0;32m     10\u001B[0m         args\u001B[38;5;241m.\u001B[39mdata,\n\u001B[1;32m   (...)\u001B[0m\n\u001B[0;32m     24\u001B[0m         args\u001B[38;5;241m.\u001B[39mmix,\n\u001B[0;32m     25\u001B[0m         args\u001B[38;5;241m.\u001B[39mdes, ii)\n\u001B[1;32m---> 27\u001B[0m     exp \u001B[38;5;241m=\u001B[39m \u001B[43mExp\u001B[49m\u001B[43m(\u001B[49m\u001B[43margs\u001B[49m\u001B[43m)\u001B[49m  \u001B[38;5;66;03m# set experiments\u001B[39;00m\n\u001B[0;32m     28\u001B[0m     \u001B[38;5;28mprint\u001B[39m(\u001B[38;5;124m'\u001B[39m\u001B[38;5;124m>>>>>>>start training : \u001B[39m\u001B[38;5;132;01m{}\u001B[39;00m\u001B[38;5;124m>>>>>>>>>>>>>>>>>>>>>>>>>>\u001B[39m\u001B[38;5;124m'\u001B[39m\u001B[38;5;241m.\u001B[39mformat(setting))\n\u001B[0;32m     29\u001B[0m     exp\u001B[38;5;241m.\u001B[39mtrain(setting)\n",
      "File \u001B[1;32mC:\\github\\txnj\\informer-paddle\\exp\\exp_informer.py:24\u001B[0m, in \u001B[0;36mExp_Informer.__init__\u001B[1;34m(self, args)\u001B[0m\n\u001B[0;32m     23\u001B[0m \u001B[38;5;28;01mdef\u001B[39;00m \u001B[38;5;21m__init__\u001B[39m(\u001B[38;5;28mself\u001B[39m, args):\n\u001B[1;32m---> 24\u001B[0m     \u001B[38;5;28;43msuper\u001B[39;49m\u001B[43m(\u001B[49m\u001B[43mExp_Informer\u001B[49m\u001B[43m,\u001B[49m\u001B[43m \u001B[49m\u001B[38;5;28;43mself\u001B[39;49m\u001B[43m)\u001B[49m\u001B[38;5;241;43m.\u001B[39;49m\u001B[38;5;21;43m__init__\u001B[39;49m\u001B[43m(\u001B[49m\u001B[43margs\u001B[49m\u001B[43m)\u001B[49m\n",
      "File \u001B[1;32mC:\\github\\txnj\\informer-paddle\\exp\\exp_basic.py:9\u001B[0m, in \u001B[0;36mExp_Basic.__init__\u001B[1;34m(self, args)\u001B[0m\n\u001B[0;32m      7\u001B[0m \u001B[38;5;28mself\u001B[39m\u001B[38;5;241m.\u001B[39margs \u001B[38;5;241m=\u001B[39m args\n\u001B[0;32m      8\u001B[0m \u001B[38;5;28mself\u001B[39m\u001B[38;5;241m.\u001B[39mdevice \u001B[38;5;241m=\u001B[39m \u001B[38;5;28mself\u001B[39m\u001B[38;5;241m.\u001B[39m_acquire_device()\n\u001B[1;32m----> 9\u001B[0m \u001B[38;5;28mself\u001B[39m\u001B[38;5;241m.\u001B[39mmodel \u001B[38;5;241m=\u001B[39m \u001B[38;5;28;43mself\u001B[39;49m\u001B[38;5;241;43m.\u001B[39;49m\u001B[43m_build_model\u001B[49m\u001B[43m(\u001B[49m\u001B[43m)\u001B[49m\u001B[38;5;241m.\u001B[39mto(\u001B[38;5;28mself\u001B[39m\u001B[38;5;241m.\u001B[39mdevice)\n",
      "File \u001B[1;32mC:\\github\\txnj\\informer-paddle\\exp\\exp_informer.py:33\u001B[0m, in \u001B[0;36mExp_Informer._build_model\u001B[1;34m(self)\u001B[0m\n\u001B[0;32m     31\u001B[0m \u001B[38;5;28;01mif\u001B[39;00m \u001B[38;5;28mself\u001B[39m\u001B[38;5;241m.\u001B[39margs\u001B[38;5;241m.\u001B[39mmodel \u001B[38;5;241m==\u001B[39m \u001B[38;5;124m'\u001B[39m\u001B[38;5;124minformer\u001B[39m\u001B[38;5;124m'\u001B[39m \u001B[38;5;129;01mor\u001B[39;00m \u001B[38;5;28mself\u001B[39m\u001B[38;5;241m.\u001B[39margs\u001B[38;5;241m.\u001B[39mmodel \u001B[38;5;241m==\u001B[39m \u001B[38;5;124m'\u001B[39m\u001B[38;5;124minformerstack\u001B[39m\u001B[38;5;124m'\u001B[39m:\n\u001B[0;32m     32\u001B[0m     e_layers \u001B[38;5;241m=\u001B[39m \u001B[38;5;28mself\u001B[39m\u001B[38;5;241m.\u001B[39margs\u001B[38;5;241m.\u001B[39me_layers \u001B[38;5;28;01mif\u001B[39;00m \u001B[38;5;28mself\u001B[39m\u001B[38;5;241m.\u001B[39margs\u001B[38;5;241m.\u001B[39mmodel \u001B[38;5;241m==\u001B[39m \u001B[38;5;124m'\u001B[39m\u001B[38;5;124minformer\u001B[39m\u001B[38;5;124m'\u001B[39m \u001B[38;5;28;01melse\u001B[39;00m \u001B[38;5;28mself\u001B[39m\u001B[38;5;241m.\u001B[39margs\u001B[38;5;241m.\u001B[39ms_layers\n\u001B[1;32m---> 33\u001B[0m     model \u001B[38;5;241m=\u001B[39m \u001B[43mmodel_dict\u001B[49m\u001B[43m[\u001B[49m\u001B[38;5;28;43mself\u001B[39;49m\u001B[38;5;241;43m.\u001B[39;49m\u001B[43margs\u001B[49m\u001B[38;5;241;43m.\u001B[39;49m\u001B[43mmodel\u001B[49m\u001B[43m]\u001B[49m\u001B[43m(\u001B[49m\n\u001B[0;32m     34\u001B[0m \u001B[43m        \u001B[49m\u001B[38;5;28;43mself\u001B[39;49m\u001B[38;5;241;43m.\u001B[39;49m\u001B[43margs\u001B[49m\u001B[38;5;241;43m.\u001B[39;49m\u001B[43menc_in\u001B[49m\u001B[43m,\u001B[49m\n\u001B[0;32m     35\u001B[0m \u001B[43m        \u001B[49m\u001B[38;5;28;43mself\u001B[39;49m\u001B[38;5;241;43m.\u001B[39;49m\u001B[43margs\u001B[49m\u001B[38;5;241;43m.\u001B[39;49m\u001B[43mdec_in\u001B[49m\u001B[43m,\u001B[49m\n\u001B[0;32m     36\u001B[0m \u001B[43m        \u001B[49m\u001B[38;5;28;43mself\u001B[39;49m\u001B[38;5;241;43m.\u001B[39;49m\u001B[43margs\u001B[49m\u001B[38;5;241;43m.\u001B[39;49m\u001B[43mc_out\u001B[49m\u001B[43m,\u001B[49m\n\u001B[0;32m     37\u001B[0m \u001B[43m        \u001B[49m\u001B[38;5;28;43mself\u001B[39;49m\u001B[38;5;241;43m.\u001B[39;49m\u001B[43margs\u001B[49m\u001B[38;5;241;43m.\u001B[39;49m\u001B[43mseq_len\u001B[49m\u001B[43m,\u001B[49m\n\u001B[0;32m     38\u001B[0m \u001B[43m        \u001B[49m\u001B[38;5;28;43mself\u001B[39;49m\u001B[38;5;241;43m.\u001B[39;49m\u001B[43margs\u001B[49m\u001B[38;5;241;43m.\u001B[39;49m\u001B[43mlabel_len\u001B[49m\u001B[43m,\u001B[49m\n\u001B[0;32m     39\u001B[0m \u001B[43m        \u001B[49m\u001B[38;5;28;43mself\u001B[39;49m\u001B[38;5;241;43m.\u001B[39;49m\u001B[43margs\u001B[49m\u001B[38;5;241;43m.\u001B[39;49m\u001B[43mpred_len\u001B[49m\u001B[43m,\u001B[49m\n\u001B[0;32m     40\u001B[0m \u001B[43m        \u001B[49m\u001B[38;5;28;43mself\u001B[39;49m\u001B[38;5;241;43m.\u001B[39;49m\u001B[43margs\u001B[49m\u001B[38;5;241;43m.\u001B[39;49m\u001B[43mfactor\u001B[49m\u001B[43m,\u001B[49m\n\u001B[0;32m     41\u001B[0m \u001B[43m        \u001B[49m\u001B[38;5;28;43mself\u001B[39;49m\u001B[38;5;241;43m.\u001B[39;49m\u001B[43margs\u001B[49m\u001B[38;5;241;43m.\u001B[39;49m\u001B[43md_model\u001B[49m\u001B[43m,\u001B[49m\n\u001B[0;32m     42\u001B[0m \u001B[43m        \u001B[49m\u001B[38;5;28;43mself\u001B[39;49m\u001B[38;5;241;43m.\u001B[39;49m\u001B[43margs\u001B[49m\u001B[38;5;241;43m.\u001B[39;49m\u001B[43mn_heads\u001B[49m\u001B[43m,\u001B[49m\n\u001B[0;32m     43\u001B[0m \u001B[43m        \u001B[49m\u001B[43me_layers\u001B[49m\u001B[43m,\u001B[49m\u001B[43m  \u001B[49m\u001B[38;5;66;43;03m# self.args.e_layers,\u001B[39;49;00m\n\u001B[0;32m     44\u001B[0m \u001B[43m        \u001B[49m\u001B[38;5;28;43mself\u001B[39;49m\u001B[38;5;241;43m.\u001B[39;49m\u001B[43margs\u001B[49m\u001B[38;5;241;43m.\u001B[39;49m\u001B[43md_layers\u001B[49m\u001B[43m,\u001B[49m\n\u001B[0;32m     45\u001B[0m \u001B[43m        \u001B[49m\u001B[38;5;28;43mself\u001B[39;49m\u001B[38;5;241;43m.\u001B[39;49m\u001B[43margs\u001B[49m\u001B[38;5;241;43m.\u001B[39;49m\u001B[43md_ff\u001B[49m\u001B[43m,\u001B[49m\n\u001B[0;32m     46\u001B[0m \u001B[43m        \u001B[49m\u001B[38;5;28;43mself\u001B[39;49m\u001B[38;5;241;43m.\u001B[39;49m\u001B[43margs\u001B[49m\u001B[38;5;241;43m.\u001B[39;49m\u001B[43mdropout\u001B[49m\u001B[43m,\u001B[49m\n\u001B[0;32m     47\u001B[0m \u001B[43m        \u001B[49m\u001B[38;5;28;43mself\u001B[39;49m\u001B[38;5;241;43m.\u001B[39;49m\u001B[43margs\u001B[49m\u001B[38;5;241;43m.\u001B[39;49m\u001B[43mattn\u001B[49m\u001B[43m,\u001B[49m\n\u001B[0;32m     48\u001B[0m \u001B[43m        \u001B[49m\u001B[38;5;28;43mself\u001B[39;49m\u001B[38;5;241;43m.\u001B[39;49m\u001B[43margs\u001B[49m\u001B[38;5;241;43m.\u001B[39;49m\u001B[43membed\u001B[49m\u001B[43m,\u001B[49m\n\u001B[0;32m     49\u001B[0m \u001B[43m        \u001B[49m\u001B[38;5;28;43mself\u001B[39;49m\u001B[38;5;241;43m.\u001B[39;49m\u001B[43margs\u001B[49m\u001B[38;5;241;43m.\u001B[39;49m\u001B[43mfreq\u001B[49m\u001B[43m,\u001B[49m\n\u001B[0;32m     50\u001B[0m \u001B[43m        \u001B[49m\u001B[38;5;28;43mself\u001B[39;49m\u001B[38;5;241;43m.\u001B[39;49m\u001B[43margs\u001B[49m\u001B[38;5;241;43m.\u001B[39;49m\u001B[43mactivation\u001B[49m\u001B[43m,\u001B[49m\n\u001B[0;32m     51\u001B[0m \u001B[43m        \u001B[49m\u001B[38;5;28;43mself\u001B[39;49m\u001B[38;5;241;43m.\u001B[39;49m\u001B[43margs\u001B[49m\u001B[38;5;241;43m.\u001B[39;49m\u001B[43moutput_attention\u001B[49m\u001B[43m,\u001B[49m\n\u001B[0;32m     52\u001B[0m \u001B[43m        \u001B[49m\u001B[38;5;28;43mself\u001B[39;49m\u001B[38;5;241;43m.\u001B[39;49m\u001B[43margs\u001B[49m\u001B[38;5;241;43m.\u001B[39;49m\u001B[43mdistil\u001B[49m\u001B[43m,\u001B[49m\n\u001B[0;32m     53\u001B[0m \u001B[43m        \u001B[49m\u001B[38;5;28;43mself\u001B[39;49m\u001B[38;5;241;43m.\u001B[39;49m\u001B[43margs\u001B[49m\u001B[38;5;241;43m.\u001B[39;49m\u001B[43mmix\u001B[49m\u001B[43m,\u001B[49m\n\u001B[0;32m     54\u001B[0m \u001B[43m        \u001B[49m\u001B[38;5;28;43mself\u001B[39;49m\u001B[38;5;241;43m.\u001B[39;49m\u001B[43mdevice\u001B[49m\n\u001B[0;32m     55\u001B[0m \u001B[43m    \u001B[49m\u001B[43m)\u001B[49m\u001B[38;5;241m.\u001B[39mfloat()\n\u001B[0;32m     57\u001B[0m     \u001B[38;5;28;01mif\u001B[39;00m \u001B[38;5;28mself\u001B[39m\u001B[38;5;241m.\u001B[39margs\u001B[38;5;241m.\u001B[39muse_multi_gpu \u001B[38;5;129;01mand\u001B[39;00m \u001B[38;5;28mself\u001B[39m\u001B[38;5;241m.\u001B[39margs\u001B[38;5;241m.\u001B[39muse_gpu:\n\u001B[0;32m     58\u001B[0m         model \u001B[38;5;241m=\u001B[39m paddle\u001B[38;5;241m.\u001B[39mDataParallel(model)\n",
      "File \u001B[1;32mC:\\github\\txnj\\informer-paddle\\models\\model.py:21\u001B[0m, in \u001B[0;36mInformer.__init__\u001B[1;34m(self, enc_in, dec_in, c_out, seq_len, label_len, out_len, factor, d_model, n_heads, e_layers, d_layers, d_ff, dropout, attn, embed, freq, activation, output_attention, distil, mix, device)\u001B[0m\n\u001B[0;32m     18\u001B[0m \u001B[38;5;28mself\u001B[39m\u001B[38;5;241m.\u001B[39moutput_attention \u001B[38;5;241m=\u001B[39m output_attention\n\u001B[0;32m     20\u001B[0m \u001B[38;5;66;03m# Encoding\u001B[39;00m\n\u001B[1;32m---> 21\u001B[0m \u001B[38;5;28mself\u001B[39m\u001B[38;5;241m.\u001B[39menc_embedding \u001B[38;5;241m=\u001B[39m \u001B[43mDataEmbedding\u001B[49m\u001B[43m(\u001B[49m\u001B[43menc_in\u001B[49m\u001B[43m,\u001B[49m\u001B[43m \u001B[49m\u001B[43md_model\u001B[49m\u001B[43m,\u001B[49m\u001B[43m \u001B[49m\u001B[43membed\u001B[49m\u001B[43m,\u001B[49m\u001B[43m \u001B[49m\u001B[43mfreq\u001B[49m\u001B[43m,\u001B[49m\u001B[43m \u001B[49m\u001B[43mdropout\u001B[49m\u001B[43m)\u001B[49m\n\u001B[0;32m     22\u001B[0m \u001B[38;5;28mself\u001B[39m\u001B[38;5;241m.\u001B[39mdec_embedding \u001B[38;5;241m=\u001B[39m DataEmbedding(dec_in, d_model, embed, freq, dropout)\n\u001B[0;32m     23\u001B[0m \u001B[38;5;66;03m# Attention\u001B[39;00m\n",
      "File \u001B[1;32mC:\\github\\txnj\\informer-paddle\\models\\embed.py:150\u001B[0m, in \u001B[0;36mDataEmbedding.__init__\u001B[1;34m(self, c_in, d_model, embed_type, freq, dropout)\u001B[0m\n\u001B[0;32m    147\u001B[0m \u001B[38;5;28;01mdef\u001B[39;00m \u001B[38;5;21m__init__\u001B[39m(\u001B[38;5;28mself\u001B[39m, c_in, d_model, embed_type\u001B[38;5;241m=\u001B[39m\u001B[38;5;124m'\u001B[39m\u001B[38;5;124mfixed\u001B[39m\u001B[38;5;124m'\u001B[39m, freq\u001B[38;5;241m=\u001B[39m\u001B[38;5;124m'\u001B[39m\u001B[38;5;124mh\u001B[39m\u001B[38;5;124m'\u001B[39m, dropout\u001B[38;5;241m=\u001B[39m\u001B[38;5;241m0.1\u001B[39m):\n\u001B[0;32m    148\u001B[0m     \u001B[38;5;28msuper\u001B[39m(DataEmbedding, \u001B[38;5;28mself\u001B[39m)\u001B[38;5;241m.\u001B[39m\u001B[38;5;21m__init__\u001B[39m()\n\u001B[1;32m--> 150\u001B[0m     \u001B[38;5;28mself\u001B[39m\u001B[38;5;241m.\u001B[39mvalue_embedding \u001B[38;5;241m=\u001B[39m \u001B[43mTokenEmbedding\u001B[49m\u001B[43m(\u001B[49m\u001B[43mc_in\u001B[49m\u001B[38;5;241;43m=\u001B[39;49m\u001B[43mc_in\u001B[49m\u001B[43m,\u001B[49m\u001B[43m \u001B[49m\u001B[43md_model\u001B[49m\u001B[38;5;241;43m=\u001B[39;49m\u001B[43md_model\u001B[49m\u001B[43m)\u001B[49m\n\u001B[0;32m    151\u001B[0m     \u001B[38;5;28mself\u001B[39m\u001B[38;5;241m.\u001B[39mposition_embedding \u001B[38;5;241m=\u001B[39m PositionalEmbedding(d_model\u001B[38;5;241m=\u001B[39md_model)\n\u001B[0;32m    152\u001B[0m     \u001B[38;5;28mself\u001B[39m\u001B[38;5;241m.\u001B[39mtemporal_embedding \u001B[38;5;241m=\u001B[39m TemporalEmbedding(d_model\u001B[38;5;241m=\u001B[39md_model, embed_type\u001B[38;5;241m=\u001B[39membed_type,\n\u001B[0;32m    153\u001B[0m                                                 freq\u001B[38;5;241m=\u001B[39mfreq) \u001B[38;5;28;01mif\u001B[39;00m embed_type \u001B[38;5;241m!=\u001B[39m \u001B[38;5;124m'\u001B[39m\u001B[38;5;124mtimeF\u001B[39m\u001B[38;5;124m'\u001B[39m \u001B[38;5;28;01melse\u001B[39;00m TimeFeatureEmbedding(\n\u001B[0;32m    154\u001B[0m         d_model\u001B[38;5;241m=\u001B[39md_model, embed_type\u001B[38;5;241m=\u001B[39membed_type, freq\u001B[38;5;241m=\u001B[39mfreq)\n",
      "File \u001B[1;32mC:\\github\\txnj\\informer-paddle\\models\\embed.py:44\u001B[0m, in \u001B[0;36mTokenEmbedding.__init__\u001B[1;34m(self, c_in, d_model)\u001B[0m\n\u001B[0;32m     41\u001B[0m padding \u001B[38;5;241m=\u001B[39m \u001B[38;5;241m1\u001B[39m \u001B[38;5;28;01mif\u001B[39;00m paddle\u001B[38;5;241m.\u001B[39m__version__ \u001B[38;5;241m>\u001B[39m\u001B[38;5;241m=\u001B[39m \u001B[38;5;124m'\u001B[39m\u001B[38;5;124m1.5.0\u001B[39m\u001B[38;5;124m'\u001B[39m \u001B[38;5;28;01melse\u001B[39;00m \u001B[38;5;241m2\u001B[39m\n\u001B[0;32m     42\u001B[0m \u001B[38;5;66;03m# ✏️self.tokenConv = nn.Conv1d(in_channels=c_in, out_channels=d_model,\u001B[39;00m\n\u001B[0;32m     43\u001B[0m \u001B[38;5;66;03m#                            kernel_size=3, padding=padding, padding_mode='circular')\u001B[39;00m\n\u001B[1;32m---> 44\u001B[0m \u001B[38;5;28mself\u001B[39m\u001B[38;5;241m.\u001B[39mtokenConv \u001B[38;5;241m=\u001B[39m \u001B[43mnn\u001B[49m\u001B[38;5;241;43m.\u001B[39;49m\u001B[43mConv1D\u001B[49m\u001B[43m(\u001B[49m\u001B[43min_channels\u001B[49m\u001B[38;5;241;43m=\u001B[39;49m\u001B[43mc_in\u001B[49m\u001B[43m,\u001B[49m\u001B[43m \u001B[49m\u001B[43mout_channels\u001B[49m\u001B[38;5;241;43m=\u001B[39;49m\u001B[43md_model\u001B[49m\u001B[43m,\u001B[49m\n\u001B[0;32m     45\u001B[0m \u001B[43m                           \u001B[49m\u001B[43mkernel_size\u001B[49m\u001B[38;5;241;43m=\u001B[39;49m\u001B[38;5;241;43m3\u001B[39;49m\u001B[43m,\u001B[49m\u001B[43m \u001B[49m\u001B[43mpadding\u001B[49m\u001B[38;5;241;43m=\u001B[39;49m\u001B[43mpadding\u001B[49m\u001B[43m,\u001B[49m\u001B[43m \u001B[49m\u001B[43mpadding_mode\u001B[49m\u001B[38;5;241;43m=\u001B[39;49m\u001B[38;5;124;43m'\u001B[39;49m\u001B[38;5;124;43mcircular\u001B[39;49m\u001B[38;5;124;43m'\u001B[39;49m\u001B[43m,\u001B[49m\u001B[43m \u001B[49m\u001B[43mbias_attr\u001B[49m\u001B[38;5;241;43m=\u001B[39;49m\u001B[38;5;28;43;01mTrue\u001B[39;49;00m\u001B[43m,\u001B[49m\n\u001B[0;32m     46\u001B[0m \u001B[43m                           \u001B[49m\u001B[43mweight_attr\u001B[49m\u001B[38;5;241;43m=\u001B[39;49m\u001B[43mnn\u001B[49m\u001B[38;5;241;43m.\u001B[39;49m\u001B[43minitializer\u001B[49m\u001B[38;5;241;43m.\u001B[39;49m\u001B[43mKaimingNormal\u001B[49m\u001B[43m(\u001B[49m\u001B[43m)\u001B[49m\u001B[43m)\u001B[49m\n",
      "File \u001B[1;32mC:\\github\\txnj\\informer-paddle\\.venv\\lib\\site-packages\\paddle\\nn\\layer\\conv.py:343\u001B[0m, in \u001B[0;36mConv1D.__init__\u001B[1;34m(self, in_channels, out_channels, kernel_size, stride, padding, dilation, groups, padding_mode, weight_attr, bias_attr, data_format)\u001B[0m\n\u001B[0;32m    329\u001B[0m \u001B[38;5;28;01mdef\u001B[39;00m \u001B[38;5;21m__init__\u001B[39m(\n\u001B[0;32m    330\u001B[0m     \u001B[38;5;28mself\u001B[39m,\n\u001B[0;32m    331\u001B[0m     in_channels,\n\u001B[1;32m   (...)\u001B[0m\n\u001B[0;32m    341\u001B[0m     data_format\u001B[38;5;241m=\u001B[39m\u001B[38;5;124m\"\u001B[39m\u001B[38;5;124mNCL\u001B[39m\u001B[38;5;124m\"\u001B[39m,\n\u001B[0;32m    342\u001B[0m ):\n\u001B[1;32m--> 343\u001B[0m     \u001B[38;5;28;43msuper\u001B[39;49m\u001B[43m(\u001B[49m\u001B[43m)\u001B[49m\u001B[38;5;241;43m.\u001B[39;49m\u001B[38;5;21;43m__init__\u001B[39;49m\u001B[43m(\u001B[49m\n\u001B[0;32m    344\u001B[0m \u001B[43m        \u001B[49m\u001B[43min_channels\u001B[49m\u001B[43m,\u001B[49m\n\u001B[0;32m    345\u001B[0m \u001B[43m        \u001B[49m\u001B[43mout_channels\u001B[49m\u001B[43m,\u001B[49m\n\u001B[0;32m    346\u001B[0m \u001B[43m        \u001B[49m\u001B[43mkernel_size\u001B[49m\u001B[43m,\u001B[49m\n\u001B[0;32m    347\u001B[0m \u001B[43m        \u001B[49m\u001B[38;5;28;43;01mFalse\u001B[39;49;00m\u001B[43m,\u001B[49m\n\u001B[0;32m    348\u001B[0m \u001B[43m        \u001B[49m\u001B[38;5;241;43m1\u001B[39;49m\u001B[43m,\u001B[49m\n\u001B[0;32m    349\u001B[0m \u001B[43m        \u001B[49m\u001B[43mstride\u001B[49m\u001B[38;5;241;43m=\u001B[39;49m\u001B[43mstride\u001B[49m\u001B[43m,\u001B[49m\n\u001B[0;32m    350\u001B[0m \u001B[43m        \u001B[49m\u001B[43mpadding\u001B[49m\u001B[38;5;241;43m=\u001B[39;49m\u001B[43mpadding\u001B[49m\u001B[43m,\u001B[49m\n\u001B[0;32m    351\u001B[0m \u001B[43m        \u001B[49m\u001B[43mpadding_mode\u001B[49m\u001B[38;5;241;43m=\u001B[39;49m\u001B[43mpadding_mode\u001B[49m\u001B[43m,\u001B[49m\n\u001B[0;32m    352\u001B[0m \u001B[43m        \u001B[49m\u001B[43mdilation\u001B[49m\u001B[38;5;241;43m=\u001B[39;49m\u001B[43mdilation\u001B[49m\u001B[43m,\u001B[49m\n\u001B[0;32m    353\u001B[0m \u001B[43m        \u001B[49m\u001B[43mgroups\u001B[49m\u001B[38;5;241;43m=\u001B[39;49m\u001B[43mgroups\u001B[49m\u001B[43m,\u001B[49m\n\u001B[0;32m    354\u001B[0m \u001B[43m        \u001B[49m\u001B[43mweight_attr\u001B[49m\u001B[38;5;241;43m=\u001B[39;49m\u001B[43mweight_attr\u001B[49m\u001B[43m,\u001B[49m\n\u001B[0;32m    355\u001B[0m \u001B[43m        \u001B[49m\u001B[43mbias_attr\u001B[49m\u001B[38;5;241;43m=\u001B[39;49m\u001B[43mbias_attr\u001B[49m\u001B[43m,\u001B[49m\n\u001B[0;32m    356\u001B[0m \u001B[43m        \u001B[49m\u001B[43mdata_format\u001B[49m\u001B[38;5;241;43m=\u001B[39;49m\u001B[43mdata_format\u001B[49m\u001B[43m,\u001B[49m\n\u001B[0;32m    357\u001B[0m \u001B[43m    \u001B[49m\u001B[43m)\u001B[49m\n",
      "File \u001B[1;32mC:\\github\\txnj\\informer-paddle\\.venv\\lib\\site-packages\\paddle\\nn\\layer\\conv.py:152\u001B[0m, in \u001B[0;36m_ConvNd.__init__\u001B[1;34m(self, in_channels, out_channels, kernel_size, transposed, dims, stride, padding, padding_mode, output_padding, dilation, groups, weight_attr, bias_attr, data_format)\u001B[0m\n\u001B[0;32m    149\u001B[0m     std \u001B[38;5;241m=\u001B[39m (\u001B[38;5;241m2.0\u001B[39m \u001B[38;5;241m/\u001B[39m filter_elem_num) \u001B[38;5;241m*\u001B[39m\u001B[38;5;241m*\u001B[39m \u001B[38;5;241m0.5\u001B[39m\n\u001B[0;32m    150\u001B[0m     \u001B[38;5;28;01mreturn\u001B[39;00m Normal(\u001B[38;5;241m0.0\u001B[39m, std)\n\u001B[1;32m--> 152\u001B[0m \u001B[38;5;28mself\u001B[39m\u001B[38;5;241m.\u001B[39mweight \u001B[38;5;241m=\u001B[39m \u001B[38;5;28;43mself\u001B[39;49m\u001B[38;5;241;43m.\u001B[39;49m\u001B[43mcreate_parameter\u001B[49m\u001B[43m(\u001B[49m\n\u001B[0;32m    153\u001B[0m \u001B[43m    \u001B[49m\u001B[43mshape\u001B[49m\u001B[38;5;241;43m=\u001B[39;49m\u001B[43mfilter_shape\u001B[49m\u001B[43m,\u001B[49m\n\u001B[0;32m    154\u001B[0m \u001B[43m    \u001B[49m\u001B[43mattr\u001B[49m\u001B[38;5;241;43m=\u001B[39;49m\u001B[38;5;28;43mself\u001B[39;49m\u001B[38;5;241;43m.\u001B[39;49m\u001B[43m_param_attr\u001B[49m\u001B[43m,\u001B[49m\n\u001B[0;32m    155\u001B[0m \u001B[43m    \u001B[49m\u001B[43mdefault_initializer\u001B[49m\u001B[38;5;241;43m=\u001B[39;49m\u001B[43m_get_default_param_initializer\u001B[49m\u001B[43m(\u001B[49m\u001B[43m)\u001B[49m\u001B[43m,\u001B[49m\n\u001B[0;32m    156\u001B[0m \u001B[43m\u001B[49m\u001B[43m)\u001B[49m\n\u001B[0;32m    157\u001B[0m \u001B[38;5;28mself\u001B[39m\u001B[38;5;241m.\u001B[39mbias \u001B[38;5;241m=\u001B[39m \u001B[38;5;28mself\u001B[39m\u001B[38;5;241m.\u001B[39mcreate_parameter(\n\u001B[0;32m    158\u001B[0m     attr\u001B[38;5;241m=\u001B[39m\u001B[38;5;28mself\u001B[39m\u001B[38;5;241m.\u001B[39m_bias_attr, shape\u001B[38;5;241m=\u001B[39m[\u001B[38;5;28mself\u001B[39m\u001B[38;5;241m.\u001B[39m_out_channels], is_bias\u001B[38;5;241m=\u001B[39m\u001B[38;5;28;01mTrue\u001B[39;00m\n\u001B[0;32m    159\u001B[0m )\n\u001B[0;32m    161\u001B[0m cudnn_version \u001B[38;5;241m=\u001B[39m get_cudnn_version()\n",
      "File \u001B[1;32mC:\\github\\txnj\\informer-paddle\\.venv\\lib\\site-packages\\paddle\\nn\\layer\\layers.py:776\u001B[0m, in \u001B[0;36mLayer.create_parameter\u001B[1;34m(self, shape, attr, dtype, is_bias, default_initializer)\u001B[0m\n\u001B[0;32m    774\u001B[0m \u001B[38;5;28;01mif\u001B[39;00m \u001B[38;5;28misinstance\u001B[39m(temp_attr, \u001B[38;5;28mstr\u001B[39m) \u001B[38;5;129;01mand\u001B[39;00m temp_attr \u001B[38;5;241m==\u001B[39m \u001B[38;5;124m\"\u001B[39m\u001B[38;5;124m\"\u001B[39m:\n\u001B[0;32m    775\u001B[0m     temp_attr \u001B[38;5;241m=\u001B[39m \u001B[38;5;28;01mNone\u001B[39;00m\n\u001B[1;32m--> 776\u001B[0m \u001B[38;5;28;01mreturn\u001B[39;00m \u001B[38;5;28;43mself\u001B[39;49m\u001B[38;5;241;43m.\u001B[39;49m\u001B[43m_helper\u001B[49m\u001B[38;5;241;43m.\u001B[39;49m\u001B[43mcreate_parameter\u001B[49m\u001B[43m(\u001B[49m\n\u001B[0;32m    777\u001B[0m \u001B[43m    \u001B[49m\u001B[43mtemp_attr\u001B[49m\u001B[43m,\u001B[49m\u001B[43m \u001B[49m\u001B[43mshape\u001B[49m\u001B[43m,\u001B[49m\u001B[43m \u001B[49m\u001B[43mdtype\u001B[49m\u001B[43m,\u001B[49m\u001B[43m \u001B[49m\u001B[43mis_bias\u001B[49m\u001B[43m,\u001B[49m\u001B[43m \u001B[49m\u001B[43mdefault_initializer\u001B[49m\n\u001B[0;32m    778\u001B[0m \u001B[43m\u001B[49m\u001B[43m)\u001B[49m\n",
      "File \u001B[1;32mC:\\github\\txnj\\informer-paddle\\.venv\\lib\\site-packages\\paddle\\base\\layer_helper_base.py:437\u001B[0m, in \u001B[0;36mLayerHelperBase.create_parameter\u001B[1;34m(self, attr, shape, dtype, is_bias, default_initializer, stop_gradient, type)\u001B[0m\n\u001B[0;32m    430\u001B[0m     \u001B[38;5;28;01mif\u001B[39;00m is_used:\n\u001B[0;32m    431\u001B[0m         \u001B[38;5;28;01mraise\u001B[39;00m \u001B[38;5;167;01mValueError\u001B[39;00m(\n\u001B[0;32m    432\u001B[0m             \u001B[38;5;124mf\u001B[39m\u001B[38;5;124m\"\u001B[39m\u001B[38;5;124mparameter name [\u001B[39m\u001B[38;5;132;01m{\u001B[39;00mattr\u001B[38;5;241m.\u001B[39mname\u001B[38;5;132;01m}\u001B[39;00m\u001B[38;5;124m] have be been used. \u001B[39m\u001B[38;5;124m\"\u001B[39m\n\u001B[0;32m    433\u001B[0m             \u001B[38;5;124m\"\u001B[39m\u001B[38;5;124mIn dygraph mode, the name of parameter can\u001B[39m\u001B[38;5;124m'\u001B[39m\u001B[38;5;124mt be same.\u001B[39m\u001B[38;5;124m\"\u001B[39m\n\u001B[0;32m    434\u001B[0m             \u001B[38;5;124m\"\u001B[39m\u001B[38;5;124mPlease check the parameter attr value passed to self.create_parameter or \u001B[39m\u001B[38;5;124m\"\u001B[39m\n\u001B[0;32m    435\u001B[0m             \u001B[38;5;124m\"\u001B[39m\u001B[38;5;124mconstructor of dygraph Layers\u001B[39m\u001B[38;5;124m\"\u001B[39m\n\u001B[0;32m    436\u001B[0m         )\n\u001B[1;32m--> 437\u001B[0m     \u001B[38;5;28;01mreturn\u001B[39;00m \u001B[38;5;28mself\u001B[39m\u001B[38;5;241m.\u001B[39mmain_program\u001B[38;5;241m.\u001B[39mglobal_block()\u001B[38;5;241m.\u001B[39mcreate_parameter(\n\u001B[0;32m    438\u001B[0m         dtype\u001B[38;5;241m=\u001B[39mdtype,\n\u001B[0;32m    439\u001B[0m         shape\u001B[38;5;241m=\u001B[39mshape,\n\u001B[0;32m    440\u001B[0m         \u001B[38;5;28mtype\u001B[39m\u001B[38;5;241m=\u001B[39m\u001B[38;5;28mtype\u001B[39m,\n\u001B[0;32m    441\u001B[0m         stop_gradient\u001B[38;5;241m=\u001B[39mstop_gradient,\n\u001B[0;32m    442\u001B[0m         \u001B[38;5;241m*\u001B[39m\u001B[38;5;241m*\u001B[39mattr\u001B[38;5;241m.\u001B[39m_to_kwargs(with_initializer\u001B[38;5;241m=\u001B[39m\u001B[38;5;28;01mTrue\u001B[39;00m),\n\u001B[0;32m    443\u001B[0m     )\n\u001B[0;32m    444\u001B[0m \u001B[38;5;28;01melse\u001B[39;00m:\n\u001B[0;32m    445\u001B[0m     \u001B[38;5;28;01mif\u001B[39;00m in_pir_mode():\n",
      "File \u001B[1;32mC:\\github\\txnj\\informer-paddle\\.venv\\lib\\site-packages\\paddle\\base\\framework.py:4526\u001B[0m, in \u001B[0;36mBlock.create_parameter\u001B[1;34m(self, *args, **kwargs)\u001B[0m\n\u001B[0;32m   4524\u001B[0m         \u001B[38;5;28;01mpass\u001B[39;00m\n\u001B[0;32m   4525\u001B[0m     \u001B[38;5;28;01melse\u001B[39;00m:\n\u001B[1;32m-> 4526\u001B[0m         \u001B[43minitializer\u001B[49m\u001B[43m(\u001B[49m\u001B[43mparam\u001B[49m\u001B[43m,\u001B[49m\u001B[43m \u001B[49m\u001B[38;5;28;43mself\u001B[39;49m\u001B[43m)\u001B[49m\n\u001B[0;32m   4527\u001B[0m param\u001B[38;5;241m.\u001B[39mstop_gradient \u001B[38;5;241m=\u001B[39m stop_gradient\n\u001B[0;32m   4528\u001B[0m \u001B[38;5;28;01mreturn\u001B[39;00m param\n",
      "File \u001B[1;32mC:\\github\\txnj\\informer-paddle\\.venv\\lib\\site-packages\\paddle\\nn\\initializer\\initializer.py:44\u001B[0m, in \u001B[0;36mInitializer.__call__\u001B[1;34m(self, param, block)\u001B[0m\n\u001B[0;32m     42\u001B[0m \u001B[38;5;28;01mdef\u001B[39;00m \u001B[38;5;21m__call__\u001B[39m(\u001B[38;5;28mself\u001B[39m, param, block\u001B[38;5;241m=\u001B[39m\u001B[38;5;28;01mNone\u001B[39;00m):\n\u001B[0;32m     43\u001B[0m     \u001B[38;5;28;01mif\u001B[39;00m \u001B[38;5;129;01mnot\u001B[39;00m lazy_init_helper()\u001B[38;5;241m.\u001B[39mstate:\n\u001B[1;32m---> 44\u001B[0m         \u001B[38;5;28;01mreturn\u001B[39;00m \u001B[38;5;28;43mself\u001B[39;49m\u001B[38;5;241;43m.\u001B[39;49m\u001B[43mforward\u001B[49m\u001B[43m(\u001B[49m\u001B[43mparam\u001B[49m\u001B[43m,\u001B[49m\u001B[43m \u001B[49m\u001B[43mblock\u001B[49m\u001B[43m)\u001B[49m\n\u001B[0;32m     46\u001B[0m     \u001B[38;5;28;01mreturn\u001B[39;00m \u001B[38;5;28mself\u001B[39m\u001B[38;5;241m.\u001B[39m_lazy_init(param, block)\n",
      "File \u001B[1;32mC:\\github\\txnj\\informer-paddle\\.venv\\lib\\site-packages\\paddle\\nn\\initializer\\kaiming.py:150\u001B[0m, in \u001B[0;36mMSRAInitializer.forward\u001B[1;34m(self, var, block)\u001B[0m\n\u001B[0;32m    148\u001B[0m     std \u001B[38;5;241m=\u001B[39m gain \u001B[38;5;241m/\u001B[39m math\u001B[38;5;241m.\u001B[39msqrt(\u001B[38;5;28mfloat\u001B[39m(fan_in))\n\u001B[0;32m    149\u001B[0m     place \u001B[38;5;241m=\u001B[39m _current_expected_place()\n\u001B[1;32m--> 150\u001B[0m     out_var \u001B[38;5;241m=\u001B[39m \u001B[43m_C_ops\u001B[49m\u001B[38;5;241;43m.\u001B[39;49m\u001B[43mgaussian\u001B[49m\u001B[43m(\u001B[49m\n\u001B[0;32m    151\u001B[0m \u001B[43m        \u001B[49m\u001B[43mout_var\u001B[49m\u001B[38;5;241;43m.\u001B[39;49m\u001B[43mshape\u001B[49m\u001B[43m,\u001B[49m\u001B[43m \u001B[49m\u001B[38;5;241;43m0.0\u001B[39;49m\u001B[43m,\u001B[49m\u001B[43m \u001B[49m\u001B[43mstd\u001B[49m\u001B[43m,\u001B[49m\u001B[43m \u001B[49m\u001B[38;5;28;43mself\u001B[39;49m\u001B[38;5;241;43m.\u001B[39;49m\u001B[43m_seed\u001B[49m\u001B[43m,\u001B[49m\u001B[43m \u001B[49m\u001B[43mout_dtype\u001B[49m\u001B[43m,\u001B[49m\u001B[43m \u001B[49m\u001B[43mplace\u001B[49m\n\u001B[0;32m    152\u001B[0m \u001B[43m    \u001B[49m\u001B[43m)\u001B[49m\n\u001B[0;32m    154\u001B[0m \u001B[38;5;28;01mif\u001B[39;00m var\u001B[38;5;241m.\u001B[39mdtype \u001B[38;5;241m==\u001B[39m core\u001B[38;5;241m.\u001B[39mVarDesc\u001B[38;5;241m.\u001B[39mVarType\u001B[38;5;241m.\u001B[39mFP16 \u001B[38;5;129;01mor\u001B[39;00m (\n\u001B[0;32m    155\u001B[0m     var\u001B[38;5;241m.\u001B[39mdtype \u001B[38;5;241m==\u001B[39m core\u001B[38;5;241m.\u001B[39mVarDesc\u001B[38;5;241m.\u001B[39mVarType\u001B[38;5;241m.\u001B[39mBF16 \u001B[38;5;129;01mand\u001B[39;00m \u001B[38;5;129;01mnot\u001B[39;00m \u001B[38;5;28mself\u001B[39m\u001B[38;5;241m.\u001B[39m_uniform\n\u001B[0;32m    156\u001B[0m ):\n\u001B[0;32m    157\u001B[0m     var_tmp \u001B[38;5;241m=\u001B[39m _C_ops\u001B[38;5;241m.\u001B[39mcast(out_var, var\u001B[38;5;241m.\u001B[39mdtype)\n",
      "\u001B[1;31mRuntimeError\u001B[0m: (PreconditionNotMet) The third-party dynamic library (cudnn64_8.dll) that Paddle depends on is not configured correctly. (error code is 126)\n  Suggestions:\n  1. Check if the third-party dynamic library (e.g. CUDA, CUDNN) is installed correctly and its version is matched with paddlepaddle you installed.\n  2. Configure third-party dynamic library environment variables as follows:\n  - Linux: set LD_LIBRARY_PATH by `export LD_LIBRARY_PATH=...`\n  - Windows: set PATH by `set PATH=XXX;%PATH%`\n  - Mac: set  DYLD_LIBRARY_PATH by `export DYLD_LIBRARY_PATH=...` [Note: After Mac OS 10.11, using the DYLD_LIBRARY_PATH is impossible unless System Integrity Protection (SIP) is disabled.] (at ..\\paddle\\phi\\backends\\dynload\\dynamic_loader.cc:340)\n"
     ]
    }
   ],
   "execution_count": 45
  }
 ],
 "metadata": {
  "kernelspec": {
   "display_name": "Python 3",
   "language": "python",
   "name": "python3"
  },
  "language_info": {
   "codemirror_mode": {
    "name": "ipython",
    "version": 2
   },
   "file_extension": ".py",
   "mimetype": "text/x-python",
   "name": "python",
   "nbconvert_exporter": "python",
   "pygments_lexer": "ipython2",
   "version": "2.7.6"
  }
 },
 "nbformat": 4,
 "nbformat_minor": 5
}
