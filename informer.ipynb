{
 "cells": [
  {
   "metadata": {},
   "cell_type": "markdown",
   "source": "# Informer Paddle Demo",
   "id": "a06b7d14a2e7c50"
  },
  {
   "metadata": {},
   "cell_type": "markdown",
   "source": [
    "### 安装依赖包\n",
    "- `poetry install`  测试是用的cpu版paddle\n",
    "- 或者用pip安装相应包"
   ],
   "id": "a3a5fa8a73fd4f50"
  },
  {
   "metadata": {
    "ExecuteTime": {
     "end_time": "2024-09-11T15:59:48.627982Z",
     "start_time": "2024-09-11T15:59:47.695929Z"
    }
   },
   "cell_type": "code",
   "source": [
    "import paddle\n",
    "import pandas as pd\n",
    "import numpy as np\n",
    "from utils.tools import dotdict\n",
    "from exp.exp_informer import Exp_Informer"
   ],
   "id": "28011b8a0b657ade",
   "outputs": [],
   "execution_count": 1
  },
  {
   "metadata": {},
   "cell_type": "markdown",
   "source": "### 打印基本信息",
   "id": "75273508458d24ac"
  },
  {
   "metadata": {
    "ExecuteTime": {
     "end_time": "2024-09-11T15:59:48.643905Z",
     "start_time": "2024-09-11T15:59:48.629497Z"
    }
   },
   "cell_type": "code",
   "source": [
    "print(f'numpy version: {np.__version__}')\n",
    "print(f'paddle version: {paddle.__version__}')\n",
    "print(f'pandas version: {pd.__version__}')\n",
    "if paddle.is_compiled_with_cuda():\n",
    "    gpu_count = paddle.device.cuda.device_count()\n",
    "    print(f\"🖥️{paddle.CUDAPlace(0)}可用,GPU数量: {gpu_count}\")\n",
    "else:\n",
    "    print(f'🔳GPU不可用,将使用{paddle.CPUPlace()}')"
   ],
   "id": "f33512a253a60483",
   "outputs": [
    {
     "name": "stdout",
     "output_type": "stream",
     "text": [
      "numpy version: 1.26.4\n",
      "paddle version: 3.0.0-beta1\n",
      "pandas version: 2.2.2\n",
      "🔳GPU不可用,将使用Place(cpu)\n"
     ]
    }
   ],
   "execution_count": 2
  },
  {
   "metadata": {},
   "cell_type": "markdown",
   "source": [
    "# 训练\n",
    "### 参数"
   ],
   "id": "74edc86eba133c37"
  },
  {
   "metadata": {
    "ExecuteTime": {
     "end_time": "2024-09-11T15:59:48.659324Z",
     "start_time": "2024-09-11T15:59:48.644908Z"
    }
   },
   "cell_type": "code",
   "source": [
    "args = dotdict()\n",
    "args.model = 'informer'\n",
    "args.data = 'WTH_small'\n",
    "args.root_path = './data/'\n",
    "args.data_path = 'WTH_small.csv'\n",
    "args.features = 'M'\n",
    "args.target = 'OT'\n",
    "args.freq = 'h'\n",
    "args.checkpoints = './checkpoints/'\n",
    "args.seq_len = 96\n",
    "args.label_len = 48\n",
    "args.pred_len = 24\n",
    "# ─── ⋆⋅☆⋅⋆ ──\n",
    "args.enc_in = 12\n",
    "args.dec_in = 12\n",
    "args.c_out = 12\n",
    "args.d_model = 512\n",
    "args.n_heads = 8\n",
    "args.e_layers = 2\n",
    "args.d_layers = 1\n",
    "args.s_layers = '3,2,1'\n",
    "args.d_ff = 2048\n",
    "args.factor = 5\n",
    "args.padding = 0\n",
    "args.distil = True\n",
    "args.dropout = 0.05\n",
    "args.attn = 'prob'\n",
    "args.embed = 'timeF'\n",
    "args.activation = 'gelu'\n",
    "args.output_attention = True\n",
    "args.mix = True\n",
    "args.num_workers = 0\n",
    "args.itr = 1\n",
    "args.train_epochs = 6\n",
    "args.batch_size = 32\n",
    "args.patience = 4  # early stopping patience\n",
    "args.learning_rate = 0.0001\n",
    "args.des = 'test'\n",
    "args.loss = 'mse'\n",
    "args.lradj = 'type1'\n",
    "args.use_amp = False\n",
    "args.inverse = False\n",
    "args.use_gpu = True if paddle.device.is_compiled_with_cuda() else False\n",
    "args.gpu = 0\n",
    "args.use_multi_gpu = False\n",
    "args.devices = '0,1,2,3'"
   ],
   "id": "62541d708425eb35",
   "outputs": [],
   "execution_count": 3
  },
  {
   "metadata": {
    "ExecuteTime": {
     "end_time": "2024-09-11T15:59:48.674936Z",
     "start_time": "2024-09-11T15:59:48.660438Z"
    }
   },
   "cell_type": "code",
   "source": [
    "if args.use_gpu and args.use_multi_gpu:  # 都gpu训练\n",
    "    args.devices = args.devices.replace(' ', '')\n",
    "device_ids = args.devices.split(',')\n",
    "args.device_ids = [int(id_) for id_ in device_ids]\n",
    "args.gpu = args.device_ids[0]\n",
    "\n",
    "data_parser = {\n",
    "    'WTH_small': {\n",
    "        'data': 'WTH_small.csv',\n",
    "        'T': 'WetBulbCelsius',\n",
    "        'M': [12, 12, 12],\n",
    "        'S': [1, 1, 1],\n",
    "        'MS': [12, 12, 1],\n",
    "        'itr': 1,\n",
    "        'train_epochs': 3,\n",
    "        'do_predict': True},\n",
    "}\n",
    "\n",
    "if args.data in data_parser.keys():\n",
    "    data_info = data_parser[args.data]\n",
    "    args.data_path = data_info['data']\n",
    "    args.target = data_info['T']\n",
    "    args.enc_in, args.dec_in, args.c_out = data_info[args.features]\n",
    "\n",
    "args.detail_freq = args.freq\n",
    "args.freq = args.freq[-1:]\n",
    "\n",
    "print('Args in experiment:')\n",
    "print(args)"
   ],
   "id": "635edc23afa216bd",
   "outputs": [
    {
     "name": "stdout",
     "output_type": "stream",
     "text": [
      "Args in experiment:\n",
      "{'model': 'informer', 'data': 'WTH_small', 'root_path': './data/', 'data_path': 'WTH_small.csv', 'features': 'M', 'target': 'WetBulbCelsius', 'freq': 'h', 'checkpoints': './checkpoints/', 'seq_len': 96, 'label_len': 48, 'pred_len': 24, 'enc_in': 12, 'dec_in': 12, 'c_out': 12, 'd_model': 512, 'n_heads': 8, 'e_layers': 2, 'd_layers': 1, 's_layers': '3,2,1', 'd_ff': 2048, 'factor': 5, 'padding': 0, 'distil': True, 'dropout': 0.05, 'attn': 'prob', 'embed': 'timeF', 'activation': 'gelu', 'output_attention': True, 'mix': True, 'num_workers': 0, 'itr': 1, 'train_epochs': 6, 'batch_size': 32, 'patience': 4, 'learning_rate': 0.0001, 'des': 'test', 'loss': 'mse', 'lradj': 'type1', 'use_amp': False, 'inverse': False, 'use_gpu': False, 'gpu': 0, 'use_multi_gpu': False, 'devices': '0,1,2,3', 'device_ids': [0, 1, 2, 3], 'detail_freq': 'h'}\n"
     ]
    }
   ],
   "execution_count": 4
  },
  {
   "metadata": {},
   "cell_type": "markdown",
   "source": "### 训练",
   "id": "89ec1a2bb1000948"
  },
  {
   "metadata": {
    "ExecuteTime": {
     "end_time": "2024-09-11T16:20:01.765597Z",
     "start_time": "2024-09-11T15:59:48.676450Z"
    }
   },
   "cell_type": "code",
   "source": [
    "Exp = Exp_Informer\n",
    "setting = \"\"\n",
    "for ii in range(args.itr):\n",
    "    # setting record of experiments\n",
    "    setting = '{}_{}_ft{}_sl{}_ll{}_pl{}_dm{}_nh{}_el{}_dl{}_df{}_at{}_fc{}_eb{}_dt{}_mx{}_{}_{}'.format(\n",
    "        args.model,\n",
    "        args.data,\n",
    "        args.features,\n",
    "        args.seq_len,\n",
    "        args.label_len,\n",
    "        args.pred_len,\n",
    "        args.d_model,\n",
    "        args.n_heads,\n",
    "        args.e_layers,\n",
    "        args.d_layers,\n",
    "        args.d_ff,\n",
    "        args.attn,\n",
    "        args.factor,\n",
    "        args.embed,\n",
    "        args.distil,\n",
    "        args.mix,\n",
    "        args.des, ii)\n",
    "\n",
    "exp = Exp(args)  # set experiments\n",
    "print('>>>>>>>start training : {}>>>>>>>>>>>>>>>>>>>>>>>>>>'.format(setting))\n",
    "exp.train(setting)\n",
    "\n",
    "print('>>>>>>>testing : {}<<<<<<<<<<<<<<<<<<<<<<<<<<<<<<<<<'.format(setting))\n",
    "exp.test(setting)\n",
    "\n",
    "if args.do_predict:\n",
    "    print('>>>>>>>predicting : {}<<<<<<<<<<<<<<<<<<<<<<<<<<<<<<<<<'.format(setting))\n",
    "exp.predict(setting, True)\n",
    "\n",
    "paddle.device.cuda.empty_cache()\n",
    "print('🚩执行结束🚩')"
   ],
   "id": "e8da8bc57d293785",
   "outputs": [
    {
     "name": "stdout",
     "output_type": "stream",
     "text": [
      "🏿Use CPU:Place(cpu)\n",
      ">>>>>>>start training : informer_WTH_small_ftM_sl96_ll48_pl24_dm512_nh8_el2_dl1_df2048_atprob_fc5_ebtimeF_dtTrue_mxTrue_test_0>>>>>>>>>>>>>>>>>>>>>>>>>>\n",
      "📑_get_data处理结束,flag:【train】,data_set.length:【10605】\n",
      "📑_get_data处理结束,flag:【val】,data_set.length:【1509】\n",
      "📑_get_data处理结束,flag:【test】,data_set.length:【3041】\n",
      "\titers: 100, epoch: 1 | loss: 0.5921394\n",
      "\tspeed: 9.7342s/iter; left time: 18368.5243s\n"
     ]
    },
    {
     "ename": "KeyboardInterrupt",
     "evalue": "",
     "output_type": "error",
     "traceback": [
      "\u001B[1;31m---------------------------------------------------------------------------\u001B[0m",
      "\u001B[1;31mKeyboardInterrupt\u001B[0m                         Traceback (most recent call last)",
      "Cell \u001B[1;32mIn[5], line 26\u001B[0m\n\u001B[0;32m     24\u001B[0m exp \u001B[38;5;241m=\u001B[39m Exp(args)  \u001B[38;5;66;03m# set experiments\u001B[39;00m\n\u001B[0;32m     25\u001B[0m \u001B[38;5;28mprint\u001B[39m(\u001B[38;5;124m'\u001B[39m\u001B[38;5;124m>>>>>>>start training : \u001B[39m\u001B[38;5;132;01m{}\u001B[39;00m\u001B[38;5;124m>>>>>>>>>>>>>>>>>>>>>>>>>>\u001B[39m\u001B[38;5;124m'\u001B[39m\u001B[38;5;241m.\u001B[39mformat(setting))\n\u001B[1;32m---> 26\u001B[0m \u001B[43mexp\u001B[49m\u001B[38;5;241;43m.\u001B[39;49m\u001B[43mtrain\u001B[49m\u001B[43m(\u001B[49m\u001B[43msetting\u001B[49m\u001B[43m)\u001B[49m\n\u001B[0;32m     28\u001B[0m \u001B[38;5;28mprint\u001B[39m(\u001B[38;5;124m'\u001B[39m\u001B[38;5;124m>>>>>>>testing : \u001B[39m\u001B[38;5;132;01m{}\u001B[39;00m\u001B[38;5;124m<<<<<<<<<<<<<<<<<<<<<<<<<<<<<<<<<\u001B[39m\u001B[38;5;124m'\u001B[39m\u001B[38;5;241m.\u001B[39mformat(setting))\n\u001B[0;32m     29\u001B[0m exp\u001B[38;5;241m.\u001B[39mtest(setting)\n",
      "File \u001B[1;32mC:\\github\\txnj\\informer-paddle\\exp\\exp_informer.py:188\u001B[0m, in \u001B[0;36mExp_Informer.train\u001B[1;34m(self, setting)\u001B[0m\n\u001B[0;32m    181\u001B[0m         time_now \u001B[38;5;241m=\u001B[39m time\u001B[38;5;241m.\u001B[39mtime()\n\u001B[0;32m    183\u001B[0m     \u001B[38;5;66;03m# ✏️if self.args.use_amp:\u001B[39;00m\n\u001B[0;32m    184\u001B[0m     \u001B[38;5;66;03m#     scaler.scale(loss).backward()\u001B[39;00m\n\u001B[0;32m    185\u001B[0m     \u001B[38;5;66;03m#     scaler.step(model_optim)\u001B[39;00m\n\u001B[0;32m    186\u001B[0m     \u001B[38;5;66;03m#     scaler.update()\u001B[39;00m\n\u001B[0;32m    187\u001B[0m     \u001B[38;5;66;03m# else:\u001B[39;00m\n\u001B[1;32m--> 188\u001B[0m     loss\u001B[38;5;241m.\u001B[39mbackward()\n\u001B[0;32m    189\u001B[0m     model_optim\u001B[38;5;241m.\u001B[39mstep()\n\u001B[0;32m    191\u001B[0m \u001B[38;5;28mprint\u001B[39m(\u001B[38;5;124m\"\u001B[39m\u001B[38;5;124mEpoch: \u001B[39m\u001B[38;5;132;01m{}\u001B[39;00m\u001B[38;5;124m cost time: \u001B[39m\u001B[38;5;132;01m{}\u001B[39;00m\u001B[38;5;124m\"\u001B[39m\u001B[38;5;241m.\u001B[39mformat(epoch \u001B[38;5;241m+\u001B[39m \u001B[38;5;241m1\u001B[39m, time\u001B[38;5;241m.\u001B[39mtime() \u001B[38;5;241m-\u001B[39m epoch_time))\n",
      "File \u001B[1;32mC:\\github\\txnj\\informer-paddle\\.venv\\lib\\site-packages\\decorator.py:232\u001B[0m, in \u001B[0;36mdecorate.<locals>.fun\u001B[1;34m(*args, **kw)\u001B[0m\n\u001B[0;32m    230\u001B[0m \u001B[38;5;28;01mif\u001B[39;00m \u001B[38;5;129;01mnot\u001B[39;00m kwsyntax:\n\u001B[0;32m    231\u001B[0m     args, kw \u001B[38;5;241m=\u001B[39m fix(args, kw, sig)\n\u001B[1;32m--> 232\u001B[0m \u001B[38;5;28;01mreturn\u001B[39;00m caller(func, \u001B[38;5;241m*\u001B[39m(extras \u001B[38;5;241m+\u001B[39m args), \u001B[38;5;241m*\u001B[39m\u001B[38;5;241m*\u001B[39mkw)\n",
      "File \u001B[1;32mC:\\github\\txnj\\informer-paddle\\.venv\\lib\\site-packages\\paddle\\base\\wrapped_decorator.py:26\u001B[0m, in \u001B[0;36mwrap_decorator.<locals>.__impl__\u001B[1;34m(func, *args, **kwargs)\u001B[0m\n\u001B[0;32m     23\u001B[0m \u001B[38;5;129m@decorator\u001B[39m\u001B[38;5;241m.\u001B[39mdecorator\n\u001B[0;32m     24\u001B[0m \u001B[38;5;28;01mdef\u001B[39;00m \u001B[38;5;21m__impl__\u001B[39m(func, \u001B[38;5;241m*\u001B[39margs, \u001B[38;5;241m*\u001B[39m\u001B[38;5;241m*\u001B[39mkwargs):\n\u001B[0;32m     25\u001B[0m     wrapped_func \u001B[38;5;241m=\u001B[39m decorator_func(func)\n\u001B[1;32m---> 26\u001B[0m     \u001B[38;5;28;01mreturn\u001B[39;00m wrapped_func(\u001B[38;5;241m*\u001B[39margs, \u001B[38;5;241m*\u001B[39m\u001B[38;5;241m*\u001B[39mkwargs)\n",
      "File \u001B[1;32mC:\\github\\txnj\\informer-paddle\\.venv\\lib\\site-packages\\paddle\\base\\framework.py:648\u001B[0m, in \u001B[0;36m_dygraph_only_.<locals>.__impl__\u001B[1;34m(*args, **kwargs)\u001B[0m\n\u001B[0;32m    643\u001B[0m \u001B[38;5;28;01mdef\u001B[39;00m \u001B[38;5;21m__impl__\u001B[39m(\u001B[38;5;241m*\u001B[39margs, \u001B[38;5;241m*\u001B[39m\u001B[38;5;241m*\u001B[39mkwargs):\n\u001B[0;32m    644\u001B[0m     \u001B[38;5;28;01massert\u001B[39;00m in_dygraph_mode(), (\n\u001B[0;32m    645\u001B[0m         \u001B[38;5;124m\"\u001B[39m\u001B[38;5;124mWe only support \u001B[39m\u001B[38;5;124m'\u001B[39m\u001B[38;5;132;01m%s\u001B[39;00m\u001B[38;5;124m()\u001B[39m\u001B[38;5;124m'\u001B[39m\u001B[38;5;124m in dynamic graph mode, please call \u001B[39m\u001B[38;5;124m'\u001B[39m\u001B[38;5;124mpaddle.disable_static()\u001B[39m\u001B[38;5;124m'\u001B[39m\u001B[38;5;124m to enter dynamic graph mode.\u001B[39m\u001B[38;5;124m\"\u001B[39m\n\u001B[0;32m    646\u001B[0m         \u001B[38;5;241m%\u001B[39m func\u001B[38;5;241m.\u001B[39m\u001B[38;5;18m__name__\u001B[39m\n\u001B[0;32m    647\u001B[0m     )\n\u001B[1;32m--> 648\u001B[0m     \u001B[38;5;28;01mreturn\u001B[39;00m func(\u001B[38;5;241m*\u001B[39margs, \u001B[38;5;241m*\u001B[39m\u001B[38;5;241m*\u001B[39mkwargs)\n",
      "File \u001B[1;32mC:\\github\\txnj\\informer-paddle\\.venv\\lib\\site-packages\\paddle\\base\\dygraph\\tensor_patch_methods.py:337\u001B[0m, in \u001B[0;36mmonkey_patch_tensor.<locals>.backward\u001B[1;34m(self, grad_tensor, retain_graph)\u001B[0m\n\u001B[0;32m    333\u001B[0m \u001B[38;5;28;01mif\u001B[39;00m _grad_scalar:\n\u001B[0;32m    334\u001B[0m     \u001B[38;5;66;03m# When using amp with Fleet DistributedStrategy, we do loss scaling implicitly.\u001B[39;00m\n\u001B[0;32m    335\u001B[0m     \u001B[38;5;28mself\u001B[39m \u001B[38;5;241m=\u001B[39m _grad_scalar\u001B[38;5;241m.\u001B[39mscale(\u001B[38;5;28mself\u001B[39m)\n\u001B[1;32m--> 337\u001B[0m \u001B[43mcore\u001B[49m\u001B[38;5;241;43m.\u001B[39;49m\u001B[43meager\u001B[49m\u001B[38;5;241;43m.\u001B[39;49m\u001B[43mrun_backward\u001B[49m\u001B[43m(\u001B[49m\u001B[43m[\u001B[49m\u001B[38;5;28;43mself\u001B[39;49m\u001B[43m]\u001B[49m\u001B[43m,\u001B[49m\u001B[43m \u001B[49m\u001B[43mgrad_tensor\u001B[49m\u001B[43m,\u001B[49m\u001B[43m \u001B[49m\u001B[43mretain_graph\u001B[49m\u001B[43m)\u001B[49m\n\u001B[0;32m    339\u001B[0m \u001B[38;5;28;01mif\u001B[39;00m in_profiler_mode():\n\u001B[0;32m    340\u001B[0m     record_event\u001B[38;5;241m.\u001B[39mend()\n",
      "\u001B[1;31mKeyboardInterrupt\u001B[0m: "
     ]
    }
   ],
   "execution_count": 5
  },
  {
   "metadata": {
    "ExecuteTime": {
     "end_time": "2024-09-11T16:20:01.766712Z",
     "start_time": "2024-09-11T16:20:01.766712Z"
    }
   },
   "cell_type": "code",
   "source": "",
   "id": "79d4e10469ed5b42",
   "outputs": [],
   "execution_count": null
  }
 ],
 "metadata": {
  "kernelspec": {
   "display_name": "Python 3",
   "language": "python",
   "name": "python3"
  },
  "language_info": {
   "codemirror_mode": {
    "name": "ipython",
    "version": 2
   },
   "file_extension": ".py",
   "mimetype": "text/x-python",
   "name": "python",
   "nbconvert_exporter": "python",
   "pygments_lexer": "ipython2",
   "version": "2.7.6"
  }
 },
 "nbformat": 4,
 "nbformat_minor": 5
}
