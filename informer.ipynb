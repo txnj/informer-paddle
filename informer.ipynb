{
 "cells": [
  {
   "metadata": {},
   "cell_type": "markdown",
   "source": "# Informer Paddle Demo",
   "id": "a06b7d14a2e7c50"
  },
  {
   "metadata": {},
   "cell_type": "markdown",
   "source": [
    "### 安装依赖包\n",
    "- `poetry install`  测试是用的cpu版paddle\n",
    "- 或者用pip安装相应包"
   ],
   "id": "a3a5fa8a73fd4f50"
  },
  {
   "metadata": {
    "ExecuteTime": {
     "end_time": "2024-09-11T15:59:48.627982Z",
     "start_time": "2024-09-11T15:59:47.695929Z"
    }
   },
   "cell_type": "code",
   "source": [
    "import paddle\n",
    "import pandas as pd\n",
    "import numpy as np\n",
    "from utils.tools import dotdict\n",
    "from exp.exp_informer import Exp_Informer"
   ],
   "id": "28011b8a0b657ade",
   "outputs": [],
   "execution_count": 1
  },
  {
   "metadata": {},
   "cell_type": "markdown",
   "source": "### 打印基本信息",
   "id": "75273508458d24ac"
  },
  {
   "metadata": {
    "ExecuteTime": {
     "end_time": "2024-09-11T15:59:48.643905Z",
     "start_time": "2024-09-11T15:59:48.629497Z"
    }
   },
   "cell_type": "code",
   "source": [
    "print(f'numpy version: {np.__version__}')\n",
    "print(f'paddle version: {paddle.__version__}')\n",
    "print(f'pandas version: {pd.__version__}')\n",
    "if paddle.is_compiled_with_cuda():\n",
    "    gpu_count = paddle.device.cuda.device_count()\n",
    "    print(f\"🖥️{paddle.CUDAPlace(0)}可用,GPU数量: {gpu_count}\")\n",
    "else:\n",
    "    print(f'🔳GPU不可用,将使用{paddle.CPUPlace()}')"
   ],
   "id": "f33512a253a60483",
   "outputs": [
    {
     "name": "stdout",
     "output_type": "stream",
     "text": [
      "numpy version: 1.26.4\n",
      "paddle version: 3.0.0-beta1\n",
      "pandas version: 2.2.2\n",
      "🔳GPU不可用,将使用Place(cpu)\n"
     ]
    }
   ],
   "execution_count": 2
  },
  {
   "metadata": {},
   "cell_type": "markdown",
   "source": [
    "# 训练\n",
    "### 参数"
   ],
   "id": "74edc86eba133c37"
  },
  {
   "metadata": {
    "ExecuteTime": {
     "end_time": "2024-09-11T15:59:48.659324Z",
     "start_time": "2024-09-11T15:59:48.644908Z"
    }
   },
   "cell_type": "code",
   "source": [
    "args = dotdict()\n",
    "args.model = 'informer'\n",
    "args.data = 'WTH_small'\n",
    "args.root_path = './data/'\n",
    "args.data_path = 'WTH_small.csv'\n",
    "args.features = 'M'\n",
    "args.target = 'OT'\n",
    "args.freq = 'h'\n",
    "args.checkpoints = './checkpoints/'\n",
    "args.seq_len = 96\n",
    "args.label_len = 48\n",
    "args.pred_len = 24\n",
    "# ─── ⋆⋅☆⋅⋆ ──\n",
    "args.enc_in = 12\n",
    "args.dec_in = 12\n",
    "args.c_out = 12\n",
    "args.d_model = 512\n",
    "args.n_heads = 8\n",
    "args.e_layers = 2\n",
    "args.d_layers = 1\n",
    "args.s_layers = '3,2,1'\n",
    "args.d_ff = 2048\n",
    "args.factor = 5\n",
    "args.padding = 0\n",
    "args.distil = True\n",
    "args.dropout = 0.05\n",
    "args.attn = 'prob'\n",
    "args.embed = 'timeF'\n",
    "args.activation = 'gelu'\n",
    "args.output_attention = True\n",
    "args.mix = True\n",
    "args.num_workers = 0\n",
    "args.itr = 1\n",
    "args.train_epochs = 6\n",
    "args.batch_size = 32\n",
    "args.patience = 4  # early stopping patience\n",
    "args.learning_rate = 0.0001\n",
    "args.des = 'test'\n",
    "args.loss = 'mse'\n",
    "args.lradj = 'type1'\n",
    "args.use_amp = False\n",
    "args.inverse = False\n",
    "args.use_gpu = True if paddle.device.is_compiled_with_cuda() else False\n",
    "args.gpu = 0\n",
    "args.use_multi_gpu = False\n",
    "args.devices = '0,1,2,3'"
   ],
   "id": "62541d708425eb35",
   "outputs": [],
   "execution_count": 3
  },
  {
   "metadata": {
    "ExecuteTime": {
     "end_time": "2024-09-11T15:59:48.674936Z",
     "start_time": "2024-09-11T15:59:48.660438Z"
    }
   },
   "cell_type": "code",
   "source": [
    "if args.use_gpu and args.use_multi_gpu:  # 都gpu训练\n",
    "    args.devices = args.devices.replace(' ', '')\n",
    "device_ids = args.devices.split(',')\n",
    "args.device_ids = [int(id_) for id_ in device_ids]\n",
    "args.gpu = args.device_ids[0]\n",
    "\n",
    "data_parser = {\n",
    "    'WTH_small': {\n",
    "        'data': 'WTH_small.csv',\n",
    "        'T': 'WetBulbCelsius',\n",
    "        'M': [12, 12, 12],\n",
    "        'S': [1, 1, 1],\n",
    "        'MS': [12, 12, 1],\n",
    "        'itr': 1,\n",
    "        'train_epochs': 3,\n",
    "        'do_predict': True},\n",
    "}\n",
    "\n",
    "if args.data in data_parser.keys():\n",
    "    data_info = data_parser[args.data]\n",
    "    args.data_path = data_info['data']\n",
    "    args.target = data_info['T']\n",
    "    args.enc_in, args.dec_in, args.c_out = data_info[args.features]\n",
    "\n",
    "args.detail_freq = args.freq\n",
    "args.freq = args.freq[-1:]\n",
    "\n",
    "print('Args in experiment:')\n",
    "print(args)"
   ],
   "id": "635edc23afa216bd",
   "outputs": [
    {
     "name": "stdout",
     "output_type": "stream",
     "text": [
      "Args in experiment:\n",
      "{'model': 'informer', 'data': 'WTH_small', 'root_path': './data/', 'data_path': 'WTH_small.csv', 'features': 'M', 'target': 'WetBulbCelsius', 'freq': 'h', 'checkpoints': './checkpoints/', 'seq_len': 96, 'label_len': 48, 'pred_len': 24, 'enc_in': 12, 'dec_in': 12, 'c_out': 12, 'd_model': 512, 'n_heads': 8, 'e_layers': 2, 'd_layers': 1, 's_layers': '3,2,1', 'd_ff': 2048, 'factor': 5, 'padding': 0, 'distil': True, 'dropout': 0.05, 'attn': 'prob', 'embed': 'timeF', 'activation': 'gelu', 'output_attention': True, 'mix': True, 'num_workers': 0, 'itr': 1, 'train_epochs': 6, 'batch_size': 32, 'patience': 4, 'learning_rate': 0.0001, 'des': 'test', 'loss': 'mse', 'lradj': 'type1', 'use_amp': False, 'inverse': False, 'use_gpu': False, 'gpu': 0, 'use_multi_gpu': False, 'devices': '0,1,2,3', 'device_ids': [0, 1, 2, 3], 'detail_freq': 'h'}\n"
     ]
    }
   ],
   "execution_count": 4
  },
  {
   "metadata": {},
   "cell_type": "markdown",
   "source": "### 训练",
   "id": "89ec1a2bb1000948"
  },
  {
   "metadata": {
    "jupyter": {
     "is_executing": true
    },
    "ExecuteTime": {
     "start_time": "2024-09-11T15:59:48.676450Z"
    }
   },
   "cell_type": "code",
   "source": [
    "Exp = Exp_Informer\n",
    "setting = \"\"\n",
    "for ii in range(args.itr):\n",
    "    # setting record of experiments\n",
    "    setting = '{}_{}_ft{}_sl{}_ll{}_pl{}_dm{}_nh{}_el{}_dl{}_df{}_at{}_fc{}_eb{}_dt{}_mx{}_{}_{}'.format(\n",
    "        args.model,\n",
    "        args.data,\n",
    "        args.features,\n",
    "        args.seq_len,\n",
    "        args.label_len,\n",
    "        args.pred_len,\n",
    "        args.d_model,\n",
    "        args.n_heads,\n",
    "        args.e_layers,\n",
    "        args.d_layers,\n",
    "        args.d_ff,\n",
    "        args.attn,\n",
    "        args.factor,\n",
    "        args.embed,\n",
    "        args.distil,\n",
    "        args.mix,\n",
    "        args.des, ii)\n",
    "\n",
    "exp = Exp(args)  # set experiments\n",
    "print('>>>>>>>start training : {}>>>>>>>>>>>>>>>>>>>>>>>>>>'.format(setting))\n",
    "exp.train(setting)\n",
    "\n",
    "print('>>>>>>>testing : {}<<<<<<<<<<<<<<<<<<<<<<<<<<<<<<<<<'.format(setting))\n",
    "exp.test(setting)\n",
    "\n",
    "if args.do_predict:\n",
    "    print('>>>>>>>predicting : {}<<<<<<<<<<<<<<<<<<<<<<<<<<<<<<<<<'.format(setting))\n",
    "exp.predict(setting, True)\n",
    "\n",
    "paddle.device.cuda.empty_cache()"
   ],
   "id": "e8da8bc57d293785",
   "outputs": [
    {
     "name": "stdout",
     "output_type": "stream",
     "text": [
      "🏿Use CPU:Place(cpu)\n"
     ]
    }
   ],
   "execution_count": null
  },
  {
   "metadata": {
    "jupyter": {
     "is_executing": true
    }
   },
   "cell_type": "code",
   "source": "",
   "id": "79d4e10469ed5b42",
   "outputs": [],
   "execution_count": null
  }
 ],
 "metadata": {
  "kernelspec": {
   "display_name": "Python 3",
   "language": "python",
   "name": "python3"
  },
  "language_info": {
   "codemirror_mode": {
    "name": "ipython",
    "version": 2
   },
   "file_extension": ".py",
   "mimetype": "text/x-python",
   "name": "python",
   "nbconvert_exporter": "python",
   "pygments_lexer": "ipython2",
   "version": "2.7.6"
  }
 },
 "nbformat": 4,
 "nbformat_minor": 5
}
