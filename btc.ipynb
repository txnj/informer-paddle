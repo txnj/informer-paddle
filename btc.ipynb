{
 "cells": [
  {
   "cell_type": "code",
   "id": "initial_id",
   "metadata": {
    "collapsed": true,
    "ExecuteTime": {
     "end_time": "2024-09-12T12:54:06.471606Z",
     "start_time": "2024-09-12T12:54:05.550078Z"
    }
   },
   "source": [
    "import paddle\n",
    "from exp.exp_informer import Exp_Informer\n",
    "from informer_paddle.args import get_setting\n",
    "from paddle import utils\n",
    "from informer_paddle.crypto_args import get_crypto_args\n",
    "\n",
    "utils.run_check()"
   ],
   "outputs": [
    {
     "name": "stdout",
     "output_type": "stream",
     "text": [
      "Running verify PaddlePaddle program ... \n",
      "PaddlePaddle works well on 1 CPU.\n",
      "PaddlePaddle is installed successfully! Let's start deep learning with PaddlePaddle now.\n"
     ]
    }
   ],
   "execution_count": 2
  },
  {
   "metadata": {},
   "cell_type": "markdown",
   "source": "### 参数",
   "id": "f68fd5484e28d7d9"
  },
  {
   "metadata": {
    "ExecuteTime": {
     "end_time": "2024-09-12T12:54:08.494087Z",
     "start_time": "2024-09-12T12:54:08.487790Z"
    }
   },
   "cell_type": "code",
   "source": "args = get_crypto_args()",
   "id": "176279b7e263ef77",
   "outputs": [
    {
     "name": "stdout",
     "output_type": "stream",
     "text": [
      "🔣 args:{'model': 'informer', 'data': 'BTC', 'root_path': 'd:/data/', 'data_path': 'binance_btc_usdt_2020.csv', 'features': 'M', 'target': 'OT', 'freq': 'h', 'checkpoints': 'd:/checkpoints/', 'seq_len': 96, 'label_len': 48, 'pred_len': 24, 'enc_in': 7, 'dec_in': 7, 'c_out': 7, 'd_model': 512, 'n_heads': 8, 'e_layers': 2, 'd_layers': 1, 's_layers': [3, 2, 1], 'd_ff': 2048, 'factor': 5, 'padding': 0, 'distil': True, 'dropout': 0.05, 'attn': 'prob', 'embed': 'timeF', 'activation': 'gelu', 'output_attention': True, 'do_predict': False, 'mix': True, 'num_workers': 0, 'itr': 1, 'train_epochs': 6, 'batch_size': 32, 'patience': 3, 'learning_rate': 0.0001, 'loss': 'mse', 'lradj': 'type1', 'use_amp': False, 'inverse': False, 'use_gpu': False, 'gpu': 0, 'use_multi_gpu': False, 'devices': '0,1,2,3', 'detail_freq': 'h'}\n"
     ]
    }
   ],
   "execution_count": 3
  },
  {
   "metadata": {},
   "cell_type": "markdown",
   "source": "### 训练",
   "id": "116362f163a19473"
  },
  {
   "metadata": {
    "jupyter": {
     "is_executing": true
    },
    "ExecuteTime": {
     "start_time": "2024-09-12T12:56:33.962007Z"
    }
   },
   "cell_type": "code",
   "source": [
    "Exp = Exp_Informer\n",
    "\n",
    "for ii in range(args.itr):\n",
    "    setting = get_setting(args, ii)\n",
    "\n",
    "    exp = Exp(args)\n",
    "    print('>>>>>>>🚀start training : {}>>>>>>>>>>>>>>>>>>>>>>>>>>'.format(setting))\n",
    "    exp.train(setting)\n",
    "\n",
    "    print('>>>>>>>🧪testing : {}<<<<<<<<<<<<<<<<<<<<<<<<<<<<<<<<<'.format(setting))\n",
    "    exp.test(setting)\n",
    "\n",
    "    if args.do_predict:\n",
    "        print('>>>>>>>🎲predicting : {}<<<<<<<<<<<<<<<<<<<<<<<<<<<<<<<<<'.format(setting))\n",
    "    exp.predict(setting, True)\n",
    "\n",
    "    paddle.device.cuda.empty_cache()\n",
    "    print('🚩执行结束🚩')"
   ],
   "id": "e0b61a8cf53f72dc",
   "outputs": [
    {
     "name": "stdout",
     "output_type": "stream",
     "text": [
      "⚙️setting:2024-09-12_20_56_informer_BTC_M_prob_timeF_0\n",
      "🏿Use CPU:Place(cpu)\n",
      ">>>>>>>🚀start training : 2024-09-12_20_56_informer_BTC_M_prob_timeF_0>>>>>>>>>>>>>>>>>>>>>>>>>>\n"
     ]
    }
   ],
   "execution_count": null
  }
 ],
 "metadata": {
  "kernelspec": {
   "display_name": "Python 3",
   "language": "python",
   "name": "python3"
  },
  "language_info": {
   "codemirror_mode": {
    "name": "ipython",
    "version": 2
   },
   "file_extension": ".py",
   "mimetype": "text/x-python",
   "name": "python",
   "nbconvert_exporter": "python",
   "pygments_lexer": "ipython2",
   "version": "2.7.6"
  }
 },
 "nbformat": 4,
 "nbformat_minor": 5
}
