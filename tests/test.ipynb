{
 "cells": [
  {
   "metadata": {},
   "cell_type": "markdown",
   "source": "### 简单使用",
   "id": "b3fb694de93a2533"
  },
  {
   "metadata": {
    "ExecuteTime": {
     "end_time": "2024-09-11T18:53:00.745077Z",
     "start_time": "2024-09-11T18:53:00.005045Z"
    }
   },
   "cell_type": "code",
   "source": [
    "import paddle\n",
    "from paddle import utils"
   ],
   "id": "6dddf4f3d82a742a",
   "outputs": [],
   "execution_count": 2
  },
  {
   "metadata": {
    "ExecuteTime": {
     "end_time": "2024-09-11T18:53:01.280281Z",
     "start_time": "2024-09-11T18:53:01.221612Z"
    }
   },
   "cell_type": "code",
   "source": [
    "utils.run_check()\n",
    "print(f'paddle version: {paddle.__version__}')\n",
    "if paddle.is_compiled_with_cuda():\n",
    "    gpu_count = paddle.device.cuda.device_count()\n",
    "    print(f'🖥️Use GPU: cuda:{paddle.CUDAPlace(0)},🔢可用GPU数量:{gpu_count}')\n",
    "else:\n",
    "    print(f'🔳GPU不可用,将使用{paddle.CPUPlace()}')\n",
    "a = paddle.arange(1, 10, 2, dtype=paddle.float32)\n",
    "print(a)"
   ],
   "id": "b0dbb55b825ffed2",
   "outputs": [
    {
     "name": "stdout",
     "output_type": "stream",
     "text": [
      "Running verify PaddlePaddle program ... \n",
      "PaddlePaddle works well on 1 CPU.\n",
      "PaddlePaddle is installed successfully! Let's start deep learning with PaddlePaddle now.\n",
      "paddle version: 3.0.0-beta1\n",
      "🔳GPU不可用,将使用Place(cpu)\n",
      "Tensor(shape=[5], dtype=float32, place=Place(cpu), stop_gradient=True,\n",
      "       [1., 3., 5., 7., 9.])\n"
     ]
    }
   ],
   "execution_count": 3
  },
  {
   "metadata": {
    "ExecuteTime": {
     "end_time": "2024-09-11T18:20:00.797202Z",
     "start_time": "2024-09-11T18:20:00.782678Z"
    }
   },
   "cell_type": "code",
   "source": [
    "a = paddle.zeros([3, 4])\n",
    "a1 = paddle.zeros([3, 4]).astype(a.dtype)\n",
    "print(f'a1 = {a1}')\n",
    "print(a)\n",
    "print(f'shape:{a.shape}')\n",
    "print(f'dtype默认值:{a.dtype}')\n",
    "print('-' * 50)\n",
    "b = paddle.arange(1, 10, 2, dtype=paddle.float32)\n",
    "print(b)\n",
    "print('-' * 50)\n",
    "c = paddle.arange(5)\n",
    "print(f'c:{c}')\n",
    "c = c.astype(paddle.float32)\n",
    "print(c)\n",
    "print('-' * 50)\n",
    "d = paddle.zeros([1, 2]).astype(paddle.float32)\n",
    "print(f\"第二个维度的大小: {d.shape[1]}\")"
   ],
   "id": "1c3f540847d70185",
   "outputs": [
    {
     "name": "stdout",
     "output_type": "stream",
     "text": [
      "a1 = Tensor(shape=[3, 4], dtype=float32, place=Place(cpu), stop_gradient=True,\n",
      "       [[0., 0., 0., 0.],\n",
      "        [0., 0., 0., 0.],\n",
      "        [0., 0., 0., 0.]])\n",
      "Tensor(shape=[3, 4], dtype=float32, place=Place(cpu), stop_gradient=True,\n",
      "       [[0., 0., 0., 0.],\n",
      "        [0., 0., 0., 0.],\n",
      "        [0., 0., 0., 0.]])\n",
      "shape:[3, 4]\n",
      "dtype默认值:paddle.float32\n",
      "--------------------------------------------------\n",
      "Tensor(shape=[5], dtype=float32, place=Place(cpu), stop_gradient=True,\n",
      "       [1., 3., 5., 7., 9.])\n",
      "--------------------------------------------------\n",
      "c:Tensor(shape=[5], dtype=int64, place=Place(cpu), stop_gradient=True,\n",
      "       [0, 1, 2, 3, 4])\n",
      "Tensor(shape=[5], dtype=float32, place=Place(cpu), stop_gradient=True,\n",
      "       [0., 1., 2., 3., 4.])\n",
      "--------------------------------------------------\n",
      "第二个维度的大小: 2\n"
     ]
    }
   ],
   "execution_count": 7
  },
  {
   "metadata": {},
   "cell_type": "markdown",
   "source": "### pandle.reshape",
   "id": "184bfd41fbac36ba"
  },
  {
   "metadata": {
    "ExecuteTime": {
     "end_time": "2024-09-11T18:20:00.812913Z",
     "start_time": "2024-09-11T18:20:00.798202Z"
    }
   },
   "cell_type": "code",
   "source": [
    "x = paddle.randn([4, 4])\n",
    "y = paddle.reshape(x, [16])\n",
    "z = paddle.reshape(x, [-1, 8])\n",
    "print(x)\n",
    "print(y)\n",
    "print(z)"
   ],
   "id": "ef0ffbcd381ccb0d",
   "outputs": [
    {
     "name": "stdout",
     "output_type": "stream",
     "text": [
      "Tensor(shape=[4, 4], dtype=float32, place=Place(cpu), stop_gradient=True,\n",
      "       [[-0.86522579, -0.50126731,  0.11768507,  1.21140158],\n",
      "        [ 1.00099719,  0.64133281, -0.21359649, -0.65527177],\n",
      "        [ 0.49888131,  1.24714267,  0.75967419, -1.15587246],\n",
      "        [ 0.87004679, -0.46943620,  0.55851787, -2.47645950]])\n",
      "Tensor(shape=[16], dtype=float32, place=Place(cpu), stop_gradient=True,\n",
      "       [-0.86522579, -0.50126731,  0.11768507,  1.21140158,  1.00099719,\n",
      "         0.64133281, -0.21359649, -0.65527177,  0.49888131,  1.24714267,\n",
      "         0.75967419, -1.15587246,  0.87004679, -0.46943620,  0.55851787,\n",
      "        -2.47645950])\n",
      "Tensor(shape=[2, 8], dtype=float32, place=Place(cpu), stop_gradient=True,\n",
      "       [[-0.86522579, -0.50126731,  0.11768507,  1.21140158,  1.00099719,\n",
      "          0.64133281, -0.21359649, -0.65527177],\n",
      "        [ 0.49888131,  1.24714267,  0.75967419, -1.15587246,  0.87004679,\n",
      "         -0.46943620,  0.55851787, -2.47645950]])\n"
     ]
    }
   ],
   "execution_count": 8
  },
  {
   "metadata": {},
   "cell_type": "markdown",
   "source": [
    "### transpose\n",
    "在这个例子中，paddle.transpose() 函数用于转置张量。perm=[1, 0] 参数指定了维度的新顺序，将原来的第二个维度（列）变为第一个维度，原来的第一个维度（行）变为第二个维度。这样就实现了 3x2 矩阵到 2x3 矩阵的转置。"
   ],
   "id": "39fd389ff0a1e54"
  },
  {
   "metadata": {
    "ExecuteTime": {
     "end_time": "2024-09-11T18:20:00.828492Z",
     "start_time": "2024-09-11T18:20:00.814427Z"
    }
   },
   "cell_type": "code",
   "source": [
    "# 创建一个 3x2 的张量\n",
    "x = paddle.to_tensor([[1, 2], [3, 4], [5, 6]])\n",
    "# 使用 transpose 进行转置\n",
    "y = paddle.transpose(x, perm=[1, 0])\n",
    "print(\"原始张量 x:\")\n",
    "print(x)\n",
    "print(\"\\n转置后的张量 y:\")\n",
    "print(y)"
   ],
   "id": "7e67e9dabfc63c74",
   "outputs": [
    {
     "name": "stdout",
     "output_type": "stream",
     "text": [
      "原始张量 x:\n",
      "Tensor(shape=[3, 2], dtype=int64, place=Place(cpu), stop_gradient=True,\n",
      "       [[1, 2],\n",
      "        [3, 4],\n",
      "        [5, 6]])\n",
      "\n",
      "转置后的张量 y:\n",
      "Tensor(shape=[2, 3], dtype=int64, place=Place(cpu), stop_gradient=True,\n",
      "       [[1, 3, 5],\n",
      "        [2, 4, 6]])\n"
     ]
    }
   ],
   "execution_count": 9
  },
  {
   "metadata": {},
   "cell_type": "markdown",
   "source": [
    "### pandle.tensor.to\n",
    "以下是关于Paddle中tensor.to()方法的简要说明：\n",
    "tensor.to()方法用于将张量转换到指定的设备、数据类型或其他张量的布局。主要用法如下：\n",
    "1. 转换设备:\n",
    "2. 转换数据类型:\n",
    "匹配其他张量的设备和数据类型:\n",
    "注意，to()方法会返回一个新的张量，原张量不会被修改。如果指定的设备或数据类型与原张量相同，则会返回原张量的视图。\n",
    "使用to()方法可以方便地在不同设备间移动数据，或者在不同数据类型间转换，这在深度学习模型训练和推理中非常有用。"
   ],
   "id": "49dc3a44aa7311d1"
  },
  {
   "metadata": {
    "ExecuteTime": {
     "end_time": "2024-09-11T18:20:00.843475Z",
     "start_time": "2024-09-11T18:20:00.828999Z"
    }
   },
   "cell_type": "code",
   "source": [
    "# 转换设备\n",
    "x = paddle.to_tensor([1, 2, 3])\n",
    "# x_gpu = x.to('gpu:0')  # 转换到GPU\n",
    "# print(x_gpu.place)\n",
    "x_cpu = x.to('cpu')  # 转换回CPU\n",
    "print(x_cpu.place)\n",
    "\n",
    "# 转换数据类型\n",
    "x = paddle.to_tensor([1, 2, 3], dtype='float32')\n",
    "x_int = x.to(dtype='int64')\n",
    "# 匹配其他张量的设备和数据类型\n",
    "x = paddle.to_tensor([1, 2, 3], dtype='float32')\n",
    "y = paddle.to_tensor([4, 5, 6], dtype='int64', place=x.place)\n",
    "x_matched = x.to(y)  # x将匹配y的设备和数据类型"
   ],
   "id": "d095882c2573f387",
   "outputs": [
    {
     "name": "stdout",
     "output_type": "stream",
     "text": [
      "Place(cpu)\n"
     ]
    }
   ],
   "execution_count": 10
  },
  {
   "metadata": {},
   "cell_type": "markdown",
   "source": "### paddle.unsqueeze",
   "id": "e55a9371733f4df8"
  },
  {
   "metadata": {
    "ExecuteTime": {
     "end_time": "2024-09-11T18:20:00.858717Z",
     "start_time": "2024-09-11T18:20:00.845057Z"
    }
   },
   "cell_type": "code",
   "source": [
    "# 创建一个2D张量\n",
    "x = paddle.to_tensor([[1, 2, 3],\n",
    "                      [4, 5, 6]])\n",
    "\n",
    "print(\"原始张量形状:\", x.shape)\n",
    "\n",
    "# 在第0维上增加一个维度\n",
    "y = paddle.unsqueeze(x, axis=0)\n",
    "print(\"在第0维上unsqueeze后的形状:\", y.shape)\n",
    "\n",
    "# 在第2维上增加一个维度\n",
    "z = paddle.unsqueeze(x, axis=2)\n",
    "print(\"在第2维上unsqueeze后的形状:\", z.shape)"
   ],
   "id": "4807249bdd7b1096",
   "outputs": [
    {
     "name": "stdout",
     "output_type": "stream",
     "text": [
      "原始张量形状: [2, 3]\n",
      "在第0维上unsqueeze后的形状: [1, 2, 3]\n",
      "在第2维上unsqueeze后的形状: [2, 3, 1]\n"
     ]
    }
   ],
   "execution_count": 11
  }
 ],
 "metadata": {
  "kernelspec": {
   "display_name": "Python 3",
   "language": "python",
   "name": "python3"
  },
  "language_info": {
   "codemirror_mode": {
    "name": "ipython",
    "version": 2
   },
   "file_extension": ".py",
   "mimetype": "text/x-python",
   "name": "python",
   "nbconvert_exporter": "python",
   "pygments_lexer": "ipython2",
   "version": "2.7.6"
  }
 },
 "nbformat": 4,
 "nbformat_minor": 5
}
