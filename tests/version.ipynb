{
 "cells": [
  {
   "cell_type": "code",
   "id": "initial_id",
   "metadata": {
    "collapsed": true,
    "ExecuteTime": {
     "end_time": "2024-09-10T13:16:45.511072Z",
     "start_time": "2024-09-10T13:16:45.506071Z"
    }
   },
   "source": [
    "import paddle\n",
    "import paddle.nn as nn\n",
    "import paddle.nn.functional as f\n",
    "import pandas as pd\n",
    "import numpy as np\n",
    "import math"
   ],
   "outputs": [],
   "execution_count": 19
  },
  {
   "metadata": {
    "ExecuteTime": {
     "end_time": "2024-09-10T13:49:06.298165Z",
     "start_time": "2024-09-10T13:49:06.291051Z"
    }
   },
   "cell_type": "code",
   "source": [
    "print(f'numpy version: {np.__version__}')\n",
    "print(f'paddle version: {paddle.__version__}')\n",
    "print(f'pandas version: {pd.__version__}')\n",
    "print(f'device: {paddle.CUDAPlace(0)}')\n",
    "if paddle.is_compiled_with_cuda():\n",
    "    gpu_count = paddle.device.cuda.device_count()\n",
    "    print(f\"可用的GPU数量: {gpu_count}\")\n",
    "else:\n",
    "    print(\"GPU不可用,将使用CPU\")"
   ],
   "id": "6679846830289c3a",
   "outputs": [
    {
     "name": "stdout",
     "output_type": "stream",
     "text": [
      "numpy version: 1.26.4\n",
      "paddle version: 3.0.0-beta1\n",
      "pandas version: 2.2.2\n",
      "device: Place(gpu:0)\n",
      "可用的GPU数量: 1\n"
     ]
    }
   ],
   "execution_count": 29
  },
  {
   "metadata": {
    "ExecuteTime": {
     "end_time": "2024-09-10T13:19:45.703301Z",
     "start_time": "2024-09-10T13:19:45.683912Z"
    }
   },
   "cell_type": "code",
   "source": [
    "a = paddle.to_tensor([[2.0, 3.0, 4.0], [5.0, 6.0, 7.0], [8.0, 9.0, 10.0]])\n",
    "print(a)\n",
    "print(a.dtype)\n",
    "print(a.numpy().dtype)"
   ],
   "id": "b8b30023f34b691",
   "outputs": [
    {
     "name": "stdout",
     "output_type": "stream",
     "text": [
      "Tensor(shape=[3, 3], dtype=float32, place=Place(gpu:0), stop_gradient=True,\n",
      "       [[2. , 3. , 4. ],\n",
      "        [5. , 6. , 7. ],\n",
      "        [8. , 9. , 10.]])\n",
      "paddle.float32\n",
      "float32\n"
     ]
    }
   ],
   "execution_count": 27
  }
 ],
 "metadata": {
  "kernelspec": {
   "display_name": "Python 3",
   "language": "python",
   "name": "python3"
  },
  "language_info": {
   "codemirror_mode": {
    "name": "ipython",
    "version": 2
   },
   "file_extension": ".py",
   "mimetype": "text/x-python",
   "name": "python",
   "nbconvert_exporter": "python",
   "pygments_lexer": "ipython2",
   "version": "2.7.6"
  }
 },
 "nbformat": 4,
 "nbformat_minor": 5
}
