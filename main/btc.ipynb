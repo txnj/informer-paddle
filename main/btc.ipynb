{
 "cells": [
  {
   "cell_type": "code",
   "id": "initial_id",
   "metadata": {
    "collapsed": true,
    "ExecuteTime": {
     "end_time": "2024-09-13T03:42:11.889551Z",
     "start_time": "2024-09-13T03:42:10.454253Z"
    }
   },
   "source": [
    "import paddle\n",
    "from exp.exp_informer import Exp_Informer\n",
    "from informer_paddle.args import get_setting\n",
    "from paddle import utils\n",
    "from informer_paddle.crypto_args import get_crypto_args\n",
    "\n",
    "utils.run_check()"
   ],
   "outputs": [
    {
     "name": "stdout",
     "output_type": "stream",
     "text": [
      "Running verify PaddlePaddle program ... \n",
      "PaddlePaddle works well on 1 CPU.\n",
      "PaddlePaddle is installed successfully! Let's start deep learning with PaddlePaddle now.\n"
     ]
    }
   ],
   "execution_count": 1
  },
  {
   "metadata": {},
   "cell_type": "markdown",
   "source": "### 参数",
   "id": "f68fd5484e28d7d9"
  },
  {
   "metadata": {
    "ExecuteTime": {
     "end_time": "2024-09-13T03:42:17.903718Z",
     "start_time": "2024-09-13T03:42:17.892511Z"
    }
   },
   "cell_type": "code",
   "source": "args = get_crypto_args()",
   "id": "176279b7e263ef77",
   "outputs": [
    {
     "name": "stdout",
     "output_type": "stream",
     "text": [
      "🔣 args:{'model': 'informer', 'data': 'BTC', 'root_path': 'd:/data/', 'data_path': 'binance_btc_usdt_2020.csv', 'features': 'M', 'target': 'OT', 'freq': 'h', 'checkpoints': 'd:/checkpoints/', 'seq_len': 96, 'label_len': 48, 'pred_len': 24, 'enc_in': 7, 'dec_in': 7, 'c_out': 7, 'd_model': 512, 'n_heads': 8, 'e_layers': 2, 'd_layers': 1, 's_layers': [3, 2, 1], 'd_ff': 2048, 'factor': 5, 'padding': 0, 'distil': True, 'dropout': 0.05, 'attn': 'prob', 'embed': 'timeF', 'activation': 'gelu', 'output_attention': True, 'do_predict': False, 'mix': True, 'num_workers': 0, 'itr': 1, 'train_epochs': 6, 'batch_size': 32, 'patience': 3, 'learning_rate': 0.0001, 'loss': 'mse', 'lradj': 'type1', 'use_amp': False, 'inverse': False, 'use_gpu': False, 'gpu': 0, 'use_multi_gpu': False, 'devices': '0,1,2,3', 'detail_freq': 'h'}\n"
     ]
    }
   ],
   "execution_count": 2
  },
  {
   "metadata": {},
   "cell_type": "markdown",
   "source": "### 训练",
   "id": "116362f163a19473"
  },
  {
   "metadata": {
    "ExecuteTime": {
     "end_time": "2024-09-13T01:35:36.975183Z",
     "start_time": "2024-09-13T01:35:36.326072Z"
    }
   },
   "cell_type": "code",
   "source": [
    "Exp = Exp_Informer\n",
    "\n",
    "for ii in range(args.itr):\n",
    "    setting = get_setting(args, ii)\n",
    "\n",
    "    exp = Exp(args)\n",
    "    print('>>>>>>>🚀start training : {}>>>>>>>>>>>>>>>>>>>>>>>>>>'.format(setting))\n",
    "    exp.train(setting)\n",
    "\n",
    "    print('>>>>>>>🧪testing : {}<<<<<<<<<<<<<<<<<<<<<<<<<<<<<<<<<'.format(setting))\n",
    "    exp.test(setting)\n",
    "\n",
    "    if args.do_predict:\n",
    "        print('>>>>>>>🎲predicting : {}<<<<<<<<<<<<<<<<<<<<<<<<<<<<<<<<<'.format(setting))\n",
    "    exp.predict(setting, True)\n",
    "\n",
    "    paddle.device.cuda.empty_cache()\n",
    "    print('🚩执行结束🚩')"
   ],
   "id": "e0b61a8cf53f72dc",
   "outputs": [
    {
     "name": "stdout",
     "output_type": "stream",
     "text": [
      "⚙️setting:2024-09-13_09_35_informer_BTC_M_prob_timeF_0\n",
      "🏿Use CPU:Place(cpu)\n",
      ">>>>>>>🚀start training : 2024-09-13_09_35_informer_BTC_M_prob_timeF_0>>>>>>>>>>>>>>>>>>>>>>>>>>\n"
     ]
    },
    {
     "ename": "ValueError",
     "evalue": "list.remove(x): x not in list",
     "output_type": "error",
     "traceback": [
      "\u001B[1;31m---------------------------------------------------------------------------\u001B[0m",
      "\u001B[1;31mValueError\u001B[0m                                Traceback (most recent call last)",
      "Cell \u001B[1;32mIn[7], line 8\u001B[0m\n\u001B[0;32m      6\u001B[0m exp \u001B[38;5;241m=\u001B[39m Exp(args)\n\u001B[0;32m      7\u001B[0m \u001B[38;5;28mprint\u001B[39m(\u001B[38;5;124m'\u001B[39m\u001B[38;5;124m>>>>>>>🚀start training : \u001B[39m\u001B[38;5;132;01m{}\u001B[39;00m\u001B[38;5;124m>>>>>>>>>>>>>>>>>>>>>>>>>>\u001B[39m\u001B[38;5;124m'\u001B[39m\u001B[38;5;241m.\u001B[39mformat(setting))\n\u001B[1;32m----> 8\u001B[0m \u001B[43mexp\u001B[49m\u001B[38;5;241;43m.\u001B[39;49m\u001B[43mtrain\u001B[49m\u001B[43m(\u001B[49m\u001B[43msetting\u001B[49m\u001B[43m)\u001B[49m\n\u001B[0;32m     10\u001B[0m \u001B[38;5;28mprint\u001B[39m(\u001B[38;5;124m'\u001B[39m\u001B[38;5;124m>>>>>>>🧪testing : \u001B[39m\u001B[38;5;132;01m{}\u001B[39;00m\u001B[38;5;124m<<<<<<<<<<<<<<<<<<<<<<<<<<<<<<<<<\u001B[39m\u001B[38;5;124m'\u001B[39m\u001B[38;5;241m.\u001B[39mformat(setting))\n\u001B[0;32m     11\u001B[0m exp\u001B[38;5;241m.\u001B[39mtest(setting)\n",
      "File \u001B[1;32mC:\\github\\txnj\\informer-paddle\\exp\\exp_informer.py:140\u001B[0m, in \u001B[0;36mExp_Informer.train\u001B[1;34m(self, setting)\u001B[0m\n\u001B[0;32m    138\u001B[0m \u001B[38;5;28;01mdef\u001B[39;00m \u001B[38;5;21mtrain\u001B[39m(\u001B[38;5;28mself\u001B[39m, setting):\n\u001B[0;32m    139\u001B[0m     \u001B[38;5;66;03m# 获得data_set, data_loader\u001B[39;00m\n\u001B[1;32m--> 140\u001B[0m     train_data, train_loader \u001B[38;5;241m=\u001B[39m \u001B[38;5;28mself\u001B[39m\u001B[38;5;241m.\u001B[39m_get_data(flag\u001B[38;5;241m=\u001B[39m\u001B[38;5;124m'\u001B[39m\u001B[38;5;124mtrain\u001B[39m\u001B[38;5;124m'\u001B[39m)\n\u001B[0;32m    141\u001B[0m     vali_data, vali_loader \u001B[38;5;241m=\u001B[39m \u001B[38;5;28mself\u001B[39m\u001B[38;5;241m.\u001B[39m_get_data(flag\u001B[38;5;241m=\u001B[39m\u001B[38;5;124m'\u001B[39m\u001B[38;5;124mval\u001B[39m\u001B[38;5;124m'\u001B[39m)\n\u001B[0;32m    142\u001B[0m     test_data, test_loader \u001B[38;5;241m=\u001B[39m \u001B[38;5;28mself\u001B[39m\u001B[38;5;241m.\u001B[39m_get_data(flag\u001B[38;5;241m=\u001B[39m\u001B[38;5;124m'\u001B[39m\u001B[38;5;124mtest\u001B[39m\u001B[38;5;124m'\u001B[39m)\n",
      "File \u001B[1;32mC:\\github\\txnj\\informer-paddle\\exp\\exp_informer.py:94\u001B[0m, in \u001B[0;36mExp_Informer._get_data\u001B[1;34m(self, flag)\u001B[0m\n\u001B[0;32m     91\u001B[0m     batch_size \u001B[38;5;241m=\u001B[39m args\u001B[38;5;241m.\u001B[39mbatch_size\n\u001B[0;32m     92\u001B[0m     freq \u001B[38;5;241m=\u001B[39m args\u001B[38;5;241m.\u001B[39mfreq\n\u001B[1;32m---> 94\u001B[0m data_set \u001B[38;5;241m=\u001B[39m \u001B[43mdataset_class\u001B[49m\u001B[43m(\u001B[49m\u001B[43m  \u001B[49m\u001B[38;5;66;43;03m# 定义data_set\u001B[39;49;00m\n\u001B[0;32m     95\u001B[0m \u001B[43m    \u001B[49m\u001B[43mroot_path\u001B[49m\u001B[38;5;241;43m=\u001B[39;49m\u001B[43margs\u001B[49m\u001B[38;5;241;43m.\u001B[39;49m\u001B[43mroot_path\u001B[49m\u001B[43m,\u001B[49m\n\u001B[0;32m     96\u001B[0m \u001B[43m    \u001B[49m\u001B[43mdata_path\u001B[49m\u001B[38;5;241;43m=\u001B[39;49m\u001B[43margs\u001B[49m\u001B[38;5;241;43m.\u001B[39;49m\u001B[43mdata_path\u001B[49m\u001B[43m,\u001B[49m\n\u001B[0;32m     97\u001B[0m \u001B[43m    \u001B[49m\u001B[43mflag\u001B[49m\u001B[38;5;241;43m=\u001B[39;49m\u001B[43mflag\u001B[49m\u001B[43m,\u001B[49m\n\u001B[0;32m     98\u001B[0m \u001B[43m    \u001B[49m\u001B[43msize\u001B[49m\u001B[38;5;241;43m=\u001B[39;49m\u001B[43m[\u001B[49m\u001B[43margs\u001B[49m\u001B[38;5;241;43m.\u001B[39;49m\u001B[43mseq_len\u001B[49m\u001B[43m,\u001B[49m\u001B[43m \u001B[49m\u001B[43margs\u001B[49m\u001B[38;5;241;43m.\u001B[39;49m\u001B[43mlabel_len\u001B[49m\u001B[43m,\u001B[49m\u001B[43m \u001B[49m\u001B[43margs\u001B[49m\u001B[38;5;241;43m.\u001B[39;49m\u001B[43mpred_len\u001B[49m\u001B[43m]\u001B[49m\u001B[43m,\u001B[49m\n\u001B[0;32m     99\u001B[0m \u001B[43m    \u001B[49m\u001B[43mfeatures\u001B[49m\u001B[38;5;241;43m=\u001B[39;49m\u001B[43margs\u001B[49m\u001B[38;5;241;43m.\u001B[39;49m\u001B[43mfeatures\u001B[49m\u001B[43m,\u001B[49m\n\u001B[0;32m    100\u001B[0m \u001B[43m    \u001B[49m\u001B[43mtarget\u001B[49m\u001B[38;5;241;43m=\u001B[39;49m\u001B[43margs\u001B[49m\u001B[38;5;241;43m.\u001B[39;49m\u001B[43mtarget\u001B[49m\u001B[43m,\u001B[49m\n\u001B[0;32m    101\u001B[0m \u001B[43m    \u001B[49m\u001B[43minverse\u001B[49m\u001B[38;5;241;43m=\u001B[39;49m\u001B[43margs\u001B[49m\u001B[38;5;241;43m.\u001B[39;49m\u001B[43minverse\u001B[49m\u001B[43m,\u001B[49m\n\u001B[0;32m    102\u001B[0m \u001B[43m    \u001B[49m\u001B[43mtimeenc\u001B[49m\u001B[38;5;241;43m=\u001B[39;49m\u001B[43mtimeenc\u001B[49m\u001B[43m,\u001B[49m\n\u001B[0;32m    103\u001B[0m \u001B[43m    \u001B[49m\u001B[43mfreq\u001B[49m\u001B[38;5;241;43m=\u001B[39;49m\u001B[43mfreq\u001B[49m\u001B[43m,\u001B[49m\n\u001B[0;32m    104\u001B[0m \u001B[43m    \u001B[49m\u001B[43mcols\u001B[49m\u001B[38;5;241;43m=\u001B[39;49m\u001B[43margs\u001B[49m\u001B[38;5;241;43m.\u001B[39;49m\u001B[43mcols\u001B[49m\n\u001B[0;32m    105\u001B[0m \u001B[43m\u001B[49m\u001B[43m)\u001B[49m\n\u001B[0;32m    106\u001B[0m \u001B[38;5;28mprint\u001B[39m(\u001B[38;5;124mf\u001B[39m\u001B[38;5;124m'\u001B[39m\u001B[38;5;124m📑_get_data结束,flag:【\u001B[39m\u001B[38;5;132;01m{\u001B[39;00mflag\u001B[38;5;132;01m}\u001B[39;00m\u001B[38;5;124m】,data_set.length:【\u001B[39m\u001B[38;5;132;01m{\u001B[39;00m\u001B[38;5;28mlen\u001B[39m(data_set)\u001B[38;5;132;01m}\u001B[39;00m\u001B[38;5;124m】\u001B[39m\u001B[38;5;124m'\u001B[39m)\n\u001B[0;32m    107\u001B[0m \u001B[38;5;66;03m# 构建 torch DataLoader\u001B[39;00m\n",
      "File \u001B[1;32mC:\\github\\txnj\\informer-paddle\\data_loader\\data_loader.py:225\u001B[0m, in \u001B[0;36mDataset_Custom.__init__\u001B[1;34m(self, root_path, flag, size, features, data_path, target, scale, inverse, timeenc, freq, cols)\u001B[0m\n\u001B[0;32m    223\u001B[0m \u001B[38;5;28mself\u001B[39m\u001B[38;5;241m.\u001B[39mroot_path \u001B[38;5;241m=\u001B[39m root_path\n\u001B[0;32m    224\u001B[0m \u001B[38;5;28mself\u001B[39m\u001B[38;5;241m.\u001B[39mdata_path \u001B[38;5;241m=\u001B[39m data_path\n\u001B[1;32m--> 225\u001B[0m \u001B[38;5;28;43mself\u001B[39;49m\u001B[38;5;241;43m.\u001B[39;49m\u001B[43m__read_data__\u001B[49m\u001B[43m(\u001B[49m\u001B[43m)\u001B[49m\n",
      "File \u001B[1;32mC:\\github\\txnj\\informer-paddle\\data_loader\\data_loader.py:240\u001B[0m, in \u001B[0;36mDataset_Custom.__read_data__\u001B[1;34m(self)\u001B[0m\n\u001B[0;32m    238\u001B[0m \u001B[38;5;28;01melse\u001B[39;00m:\n\u001B[0;32m    239\u001B[0m     cols \u001B[38;5;241m=\u001B[39m \u001B[38;5;28mlist\u001B[39m(df_raw\u001B[38;5;241m.\u001B[39mcolumns)  \u001B[38;5;66;03m# 所有列\u001B[39;00m\n\u001B[1;32m--> 240\u001B[0m     \u001B[43mcols\u001B[49m\u001B[38;5;241;43m.\u001B[39;49m\u001B[43mremove\u001B[49m\u001B[43m(\u001B[49m\u001B[38;5;28;43mself\u001B[39;49m\u001B[38;5;241;43m.\u001B[39;49m\u001B[43mtarget\u001B[49m\u001B[43m)\u001B[49m\n\u001B[0;32m    241\u001B[0m     cols\u001B[38;5;241m.\u001B[39mremove(\u001B[38;5;124m'\u001B[39m\u001B[38;5;124mdate\u001B[39m\u001B[38;5;124m'\u001B[39m)  \u001B[38;5;66;03m# 移除时间列\u001B[39;00m\n\u001B[0;32m    242\u001B[0m df_raw \u001B[38;5;241m=\u001B[39m df_raw[[\u001B[38;5;124m'\u001B[39m\u001B[38;5;124mdate\u001B[39m\u001B[38;5;124m'\u001B[39m] \u001B[38;5;241m+\u001B[39m cols \u001B[38;5;241m+\u001B[39m [\u001B[38;5;28mself\u001B[39m\u001B[38;5;241m.\u001B[39mtarget]]  \u001B[38;5;66;03m# 日期列+特征列+目标列\u001B[39;00m\n",
      "\u001B[1;31mValueError\u001B[0m: list.remove(x): x not in list"
     ]
    }
   ],
   "execution_count": 7
  }
 ],
 "metadata": {
  "kernelspec": {
   "display_name": "Python 3",
   "language": "python",
   "name": "python3"
  },
  "language_info": {
   "codemirror_mode": {
    "name": "ipython",
    "version": 2
   },
   "file_extension": ".py",
   "mimetype": "text/x-python",
   "name": "python",
   "nbconvert_exporter": "python",
   "pygments_lexer": "ipython2",
   "version": "2.7.6"
  }
 },
 "nbformat": 4,
 "nbformat_minor": 5
}
